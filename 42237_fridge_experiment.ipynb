{
 "cells": [
  {
   "cell_type": "code",
   "execution_count": 1,
   "id": "675e5b77",
   "metadata": {},
   "outputs": [],
   "source": [
    "from pydent import AqSession #pydent is the Aquarium module for python, installable using pip\n",
    "import os\n",
    "import datetime\n",
    "from PIL import Image, ExifTags\n",
    "import cv2\n",
    "import numpy as np\n",
    "from datetime import datetime\n",
    "import json\n",
    "import pandas as pd\n",
    "import matplotlib.pyplot as plt\n",
    "import statistics"
   ]
  },
  {
   "cell_type": "code",
   "execution_count": 12,
   "id": "60e77283",
   "metadata": {},
   "outputs": [],
   "source": [
    "username = \"maddyscott\"\n",
    "password = \"duckweedrox\"\n",
    "plan_id = 42237\n",
    "cwd = os.getcwd()\n",
    "dir_path_original= \"%s/Images_Plan_%d\" % (cwd, plan_id)\n",
    "dir_path_resized= \"%s/Images_%d_CROPPED\" % (cwd, plan_id)\n",
    "dir_path_green= \"%s/Images_%d_JUSTGREEN\" % (cwd, plan_id)\n",
    "dir_path_clusters = \"%s/Images_%d_CLUSTERS\" % (cwd, plan_id)\n",
    "REDUCTION = 10\n",
    "PETRI_DIAM = 95 #in mm, the diameter of the TOP lid of the petri dish"
   ]
  },
  {
   "cell_type": "code",
   "execution_count": 19,
   "id": "91ced58b",
   "metadata": {},
   "outputs": [],
   "source": [
    "#takes in the image metadata and reformats it\n",
    "def parse_datetime(x):\n",
    "    x = x.replace(\" \", \":\")\n",
    "    splt = x.split(\":\")\n",
    "    datime = \"yr_%s_month_%s_day_%s_hour_%s\" % (splt[0], splt[1], splt[2], splt[3])\n",
    "    return datime\n",
    "\n",
    "#takes a file name of the format defined in \"parse_datetime()\" and returns the month, day, and hour\n",
    "def file_to_datetime(filename):\n",
    "    f = filename.split(\"_\")\n",
    "    year = int(f[3])\n",
    "    month = int(f[5])\n",
    "    day = int(f[7])\n",
    "    hr = int(f[9].split(\".\")[0])\n",
    "    return year, month, day, hr  \n",
    "\n",
    "#returns the difference between two dates\n",
    "def days_since_start(oldest, file):\n",
    "    m, d, hr = file_to_datetime(file)\n",
    "    new = datetime(2021, m, d, hr, 0, 0)\n",
    "    return (new-oldest).total_seconds()/(60*60*24)\n",
    "\n",
    "#takes an image and renames it. If the image has been rotated, it returns it to the original orientation\n",
    "def rename(upload_name, item_id):\n",
    "    #now, we're going to open the image to get the metadata and rename it\n",
    "    im = Image.open(os.path.join(dir_path_original, upload_name))\n",
    "    datetime = parse_datetime(im._getexif()[36867])\n",
    "    new_name = \"item_%s_%s.jpg\" % (str(item_id), datetime)\n",
    "    \n",
    "    #rotate the image to ensure the orientation is correct\n",
    "    #search for keys until you land on the numerical value for orientation\n",
    "    for orientation in ExifTags.TAGS.keys():\n",
    "        if ExifTags.TAGS[orientation]=='Orientation':\n",
    "            break\n",
    "    #getting the metadata and ensuring we preserve image rotation\n",
    "    exif=dict(im._getexif().items())\n",
    "    if exif[orientation] == 3 : \n",
    "        im=im.rotate(180, expand=True)\n",
    "    elif exif[orientation] == 6 : \n",
    "        im=im.rotate(270, expand=True)\n",
    "    elif exif[orientation] == 8 : \n",
    "        im=im.rotate(90, expand=True)\n",
    "    \n",
    "    im.save(os.path.join(dir_path_original, new_name))\n",
    "    os.remove(os.path.join(dir_path_original, upload_name))\n",
    "    \n",
    "#takes in an image and a circle and crops the image to that circle (in our case, the circle is the petri dish)\n",
    "def crop_to_dish(img, i):\n",
    "    xmin = i[0] - i[2]\n",
    "    xmax = i[0] + i[2]\n",
    "    ymin = i[1] - i[2]\n",
    "    ymax = i[1] + i[2]\n",
    "    height,width = cv2.cvtColor(img, cv2.COLOR_BGR2GRAY).shape\n",
    "    mask = np.zeros((height,width), np.uint8)\n",
    "    circle_img = cv2.circle(mask, (i[0],i[1]), i[2],(255,255,255),thickness=-1)\n",
    "    masked_data = cv2.bitwise_and(img, img, mask=circle_img)\n",
    "    crop = masked_data[ymin:ymax,xmin:xmax]\n",
    "    return crop\n",
    "\n",
    "#returns the difference between two dates\n",
    "def days_since_start(oldest, file):\n",
    "    m, d, hr = file_to_datetime(file)\n",
    "    new = datetime(2021, m, d, hr, 0, 0)\n",
    "    return (new-oldest).total_seconds()/(60*60*24)"
   ]
  },
  {
   "cell_type": "code",
   "execution_count": 4,
   "id": "92d9c9c7",
   "metadata": {},
   "outputs": [],
   "source": [
    "\"\"\"\n",
    "Connecting to Aquarium\n",
    "\"\"\"\n",
    "prod = AqSession(username, password,\"http://52.27.43.242/\") #the URL is for the UW BIOFAB production server"
   ]
  },
  {
   "cell_type": "code",
   "execution_count": 5,
   "id": "74499820",
   "metadata": {},
   "outputs": [],
   "source": [
    "items = []\n",
    "plan = prod.Plan.find(plan_id)\n",
    "\n",
    "for x in plan.operations: #get the operations of the plan\n",
    "    oper = prod.Operation.find(x.id)\n",
    "    if oper.operation_type.name == \"Image Container of Duckweed\" and oper.status == 'done': #if the operation was imaging and it is done\n",
    "        for y in oper.outputs: #look at the items associated with that operation\n",
    "            item = prod.Item.find(y.item.id) \n",
    "            if item.sample.name == \"S. polyrhiza 7498\" and item.id not in items:\n",
    "                items.append(item.id)"
   ]
  },
  {
   "cell_type": "code",
   "execution_count": 7,
   "id": "1c890033",
   "metadata": {},
   "outputs": [
    {
     "data": {
      "text/plain": [
       "[550116,\n",
       " 550117,\n",
       " 550118,\n",
       " 550119,\n",
       " 550120,\n",
       " 550121,\n",
       " 550125,\n",
       " 550126,\n",
       " 550127,\n",
       " 550122,\n",
       " 550123,\n",
       " 550124,\n",
       " 550128,\n",
       " 550129,\n",
       " 550130]"
      ]
     },
     "execution_count": 7,
     "metadata": {},
     "output_type": "execute_result"
    }
   ],
   "source": [
    "items"
   ]
  },
  {
   "cell_type": "code",
   "execution_count": 8,
   "id": "cab0e1fc",
   "metadata": {},
   "outputs": [],
   "source": [
    "item_dict = {}\n",
    "for item in items:\n",
    "    i = prod.Item.find(item)\n",
    "    treatment_json = [x.value for x in i.data_associations if x.key == 'Treatment'][0]\n",
    "    for key_value in treatment_json:\n",
    "        item_dict[item] = treatment_json[key_value]"
   ]
  },
  {
   "cell_type": "code",
   "execution_count": 9,
   "id": "f88ccc34",
   "metadata": {},
   "outputs": [
    {
     "data": {
      "text/plain": [
       "{550116: '505318',\n",
       " 550117: '505318',\n",
       " 550118: '505318',\n",
       " 550119: '545767',\n",
       " 550120: '545767',\n",
       " 550121: '545767',\n",
       " 550125: '548738',\n",
       " 550126: '548738',\n",
       " 550127: '548738',\n",
       " 550122: '518753',\n",
       " 550123: '518753',\n",
       " 550124: '518753',\n",
       " 550128: 'No',\n",
       " 550129: 'No',\n",
       " 550130: 'No'}"
      ]
     },
     "execution_count": 9,
     "metadata": {},
     "output_type": "execute_result"
    }
   ],
   "source": [
    "item_dict"
   ]
  },
  {
   "cell_type": "code",
   "execution_count": 10,
   "id": "eff02500",
   "metadata": {},
   "outputs": [
    {
     "name": "stdout",
     "output_type": "stream",
     "text": [
      "Directory created\n",
      "All files downloaded and renamed\n"
     ]
    }
   ],
   "source": [
    "#If the desired directory to download images into already exists, delete all files in it. Otherwise, make the directory\n",
    "try:\n",
    "    os.mkdir(dir_path_original)\n",
    "    print(\"Directory created\")\n",
    "except:\n",
    "    for f in os.listdir(dir_path_original):\n",
    "        os.remove(os.path.join(dir_path_original, f))\n",
    "    print(\"Directory already exists. All files removed.\")\n",
    "\n",
    "#download the images\n",
    "for item in items:\n",
    "    item = prod.Item.find(item) \n",
    "    #for every data association, find the upload. If it is an image, get the upload value\n",
    "    for assoc in item.data_associations:\n",
    "        #if the data association is an image (those are saved in arrays)\n",
    "        if type(assoc.value) == type([]):\n",
    "            for i in range(len(assoc.value)):\n",
    "                upload_id = assoc.value[i]['id']\n",
    "                u = prod.Upload.find(upload_id)\n",
    "                if \".jpg\" in u.name: \n",
    "                    u.download(outdir=dir_path_original, filename = u.name, overwrite=True)\n",
    "                    rename(u.name, item.id)\n",
    "print(\"All files downloaded and renamed\")"
   ]
  },
  {
   "cell_type": "code",
   "execution_count": 13,
   "id": "1fcedb27",
   "metadata": {},
   "outputs": [
    {
     "name": "stdout",
     "output_type": "stream",
     "text": [
      "All files replaced.\n"
     ]
    }
   ],
   "source": [
    "\"\"\"\n",
    "Resizing the images so finding the petri dish with Hough Circles (the operation to identify the petri dish) won't take forever\n",
    "\"\"\"\n",
    "#making a new directory for ther esized images\n",
    "\n",
    "try:\n",
    "    os.mkdir(dir_path_resized)\n",
    "except:\n",
    "    for f in os.listdir(dir_path_resized):\n",
    "        os.remove(os.path.join(dir_path_resized, f))\n",
    "    print(\"Directory already exists. All files removed.\")\n",
    "\n",
    "#for each file, resize and save in new directory\n",
    "for filename in os.listdir(dir_path_original):\n",
    "    if \".jpg\" in filename:\n",
    "        im_dir = dir_path_original + \"/\" + filename\n",
    "        im = Image.open(im_dir)\n",
    "\n",
    "        #Resize image and save\n",
    "        h, w = im.size\n",
    "        im = im.resize((int(h/REDUCTION), int(w/REDUCTION)), Image.ANTIALIAS)\n",
    "        im.save(dir_path_resized + \"/\" + filename)\n",
    "print(\"All files replaced.\")\n",
    "    "
   ]
  },
  {
   "cell_type": "code",
   "execution_count": 14,
   "id": "4176e4c0",
   "metadata": {},
   "outputs": [
    {
     "name": "stdout",
     "output_type": "stream",
     "text": [
      "All files cropped\n"
     ]
    }
   ],
   "source": [
    "\"\"\"\n",
    "Crop images CANNOT RUN THIS CELL TWICE IN A ROW; MUST RERUN PREVIOUS CELL EACH TIME\n",
    "\"\"\"\n",
    "\n",
    "for file in os.listdir(dir_path_resized):\n",
    "\n",
    "    #finding the petri dishes on the compressed file\n",
    "    im_orig = cv2.imread(dir_path_resized + \"/\" + file)\n",
    "    im = cv2.cvtColor(im_orig, cv2.COLOR_BGR2GRAY)\n",
    "    im = cv2.GaussianBlur(im,(5,5),0)\n",
    "    circles = cv2.HoughCircles(im,cv2.HOUGH_GRADIENT,1.8, minDist = 100, param1=50, param2=90, minRadius = 90, maxRadius=200)\n",
    "    im_full = cv2.imread(dir_path_original + \"/\" +file)\n",
    "    \n",
    "    #cropping uncompressed images to the petri dish\n",
    "    crop = np.zeros((400, 400))\n",
    "    for i in circles[0,:]:\n",
    "        i = [int(n*10) for n in i] #make int(n*10) if using im_full\n",
    "        crop = crop_to_dish(im_full, i) \n",
    "        break\n",
    "\n",
    "    #removing the images we just saved and replacing them with the uncompressed, cropped images\n",
    "    os.remove(os.path.join(dir_path_resized, file)) \n",
    "\n",
    "    new_im = Image.fromarray(cv2.cvtColor(crop, cv2.COLOR_BGR2RGB))\n",
    "    h, w = new_im.size\n",
    "    new_im = new_im.resize((int(2*h/REDUCTION), int(2*w/REDUCTION)), Image.ANTIALIAS)\n",
    "    new_im.save(dir_path_resized + \"/\" + file)\n",
    "print(\"All files cropped\")"
   ]
  },
  {
   "cell_type": "code",
   "execution_count": 20,
   "id": "10a0e567",
   "metadata": {},
   "outputs": [],
   "source": [
    "\"\"\"\n",
    "Finding the oldest date from all of the image exifs to set as T=0 later\n",
    "\"\"\"\n",
    "#takes a file name of the format defined in \"parse_datetime()\" and returns the month, day, and hour\n",
    "oldest = datetime.now()\n",
    "for file in os.listdir(dir_path_resized):\n",
    "    yr, m, d, hr = file_to_datetime(file)\n",
    "    new = datetime(yr, m, d, hr, 0, 0)\n",
    "    dif = new - oldest\n",
    "    dif = dif.total_seconds()\n",
    "    if dif < 0:\n",
    "        oldest = new"
   ]
  },
  {
   "cell_type": "code",
   "execution_count": 21,
   "id": "b0146f74",
   "metadata": {},
   "outputs": [
    {
     "data": {
      "text/plain": [
       "{550116: datetime.datetime(2021, 12, 14, 15, 0),\n",
       " 550117: datetime.datetime(2021, 12, 14, 15, 0),\n",
       " 550118: datetime.datetime(2021, 12, 14, 15, 0),\n",
       " 550119: datetime.datetime(2021, 12, 14, 15, 0),\n",
       " 550120: datetime.datetime(2021, 12, 14, 15, 0),\n",
       " 550121: datetime.datetime(2021, 12, 14, 15, 0),\n",
       " 550125: datetime.datetime(2021, 12, 14, 15, 0),\n",
       " 550126: datetime.datetime(2021, 12, 14, 15, 0),\n",
       " 550127: datetime.datetime(2021, 12, 14, 15, 0),\n",
       " 550122: datetime.datetime(2021, 12, 14, 15, 0),\n",
       " 550123: datetime.datetime(2021, 12, 14, 15, 0),\n",
       " 550124: datetime.datetime(2021, 12, 14, 15, 0),\n",
       " 550128: datetime.datetime(2021, 12, 14, 15, 0),\n",
       " 550129: datetime.datetime(2021, 12, 14, 15, 0),\n",
       " 550130: datetime.datetime(2021, 12, 14, 15, 0)}"
      ]
     },
     "execution_count": 21,
     "metadata": {},
     "output_type": "execute_result"
    }
   ],
   "source": [
    "start_time = {}\n",
    "for item in items:\n",
    "    start_time[item] = datetime.now()\n",
    "    for file in os.listdir(dir_path_resized):\n",
    "        if int(file[5:11]) == item:\n",
    "            year, month, day, hr = file_to_datetime(file)\n",
    "            date = datetime(year, month, day, hr)\n",
    "            if date < start_time[item]:\n",
    "                start_time[item] = date\n",
    "start_time"
   ]
  },
  {
   "cell_type": "code",
   "execution_count": 22,
   "id": "b33d3ac4",
   "metadata": {},
   "outputs": [
    {
     "name": "stdout",
     "output_type": "stream",
     "text": [
      "Average colors and area of green computed and images saved!\n"
     ]
    }
   ],
   "source": [
    "try:\n",
    "    os.mkdir(dir_path_green)\n",
    "except:\n",
    "    for f in os.listdir(dir_path_green):\n",
    "        os.remove(os.path.join(dir_path_green, f))\n",
    "    print(\"Directory already exists. All files removed and replaced.\")\n",
    "\n",
    "avg_colors = {}\n",
    "amount_green = {}\n",
    "for file in os.listdir(dir_path_resized):\n",
    "    im = cv2.imread(os.path.join(dir_path_resized, file))\n",
    "    \n",
    "    item = int(file.split(\"_\")[1])\n",
    "    if item not in amount_green:\n",
    "        amount_green[item] = {}\n",
    "    if item not in avg_colors:\n",
    "        avg_colors[item] = {}\n",
    "    #now add this datetime to the array of info for this item\n",
    "    y, m, d, h = file_to_datetime(file)\n",
    "    curr_date = datetime(y, m, d, h)\n",
    "    diff = curr_date - start_time[item]\n",
    "    day = diff.days\n",
    "    \n",
    "    amount_green[item][day] = 0   \n",
    "    for i in range(im.shape[0]):\n",
    "        for j in range(im.shape[1]):\n",
    "            if im[i, j][0] > .9*im[i, j][1]:\n",
    "                im[i, j] = [0, 0, 0]\n",
    "            if np.array([x < 100 for x in im[i, j]]).all():\n",
    "                im[i, j] = [0, 0, 0]\n",
    "            else:\n",
    "                amount_green[item][day] += 1\n",
    "                \n",
    "            \n",
    "    im = cv2.cvtColor(im, cv2.COLOR_BGR2RGB)\n",
    "    arr = np.array(im)\n",
    "    temp = arr.reshape(arr.shape[0]**2, 3)\n",
    "    \n",
    "    #summing all of the green pixels for each image\n",
    "    s  = [sum(temp[x,0] for x in range(temp.shape[0])), sum(temp[x,1] for x in range(temp.shape[0])), sum(temp[x,2] for x in range(temp.shape[0]))]\n",
    "    \n",
    "    #summing all three pixel values for each pixel and counting the number of non-zero (green) pixels \n",
    "    x = np.array([sum(temp[i]) for i in range(temp.shape[0])])\n",
    "    n = np.count_nonzero(x)\n",
    "    \n",
    "    #computing the average\n",
    "    avg = [val/n for val in s]\n",
    "    \n",
    "    #making sure both counts of the amount of green are consistent\n",
    "    assert amount_green[item][day] == n\n",
    "    \n",
    "    #assigning the average color to the correct item and day\n",
    "    avg_colors[item][day] = avg\n",
    "    \n",
    "    #change so we're recording the area of the image that is green, based on the fact that the h/w of image is the diameter of the petri dish\n",
    "    num_pix = amount_green[item][day]\n",
    "    area = num_pix*(1.0*PETRI_DIAM/im.shape[0])**2\n",
    "    amount_green[item][day] = area\n",
    "    \n",
    "    #saving the image of just the green\n",
    "    img = Image.fromarray(im)\n",
    "    img.save(dir_path_green + \"/\" + file)\n",
    "print(\"Average colors and area of green computed and images saved!\")"
   ]
  },
  {
   "cell_type": "code",
   "execution_count": 23,
   "id": "217faf70",
   "metadata": {},
   "outputs": [
    {
     "data": {
      "text/plain": [
       "{550116: {0: 405.2276092321091,\n",
       "  1: 255.71953285767054,\n",
       "  4: 212.59964449513456,\n",
       "  6: 214.43054144287993,\n",
       "  7: 240.36280163646447,\n",
       "  9: 287.0269726247987},\n",
       " 550117: {0: 349.6844247690579,\n",
       "  1: 173.81869647263753,\n",
       "  4: 188.6328803168403,\n",
       "  6: 148.0371900826446,\n",
       "  7: 194.4179451620326,\n",
       "  9: 216.37576292772013},\n",
       " 550118: {0: 317.41183748616214,\n",
       "  1: 183.3454788816181,\n",
       "  4: 174.34272027870517,\n",
       "  6: 200.9889862241124,\n",
       "  7: 238.74399981886248,\n",
       "  9: 198.50206611570246},\n",
       " 550119: {0: 285.62965167344674,\n",
       "  1: 300.0946323410423,\n",
       "  4: 330.3602110123761,\n",
       "  6: 498.2981719630141,\n",
       "  7: 776.0976823923085,\n",
       "  9: 2193.947238658777},\n",
       " 550120: {0: 381.01770939178397,\n",
       "  1: 315.38159849870647,\n",
       "  4: 351.4192387131027,\n",
       "  6: 469.92046875,\n",
       "  7: 630.9197600776627,\n",
       "  9: 1795.78701444924},\n",
       " 550121: {0: 270.18140589569157,\n",
       "  1: 229.46607533319448,\n",
       "  4: 273.8704671951425,\n",
       "  6: 367.2174973327236,\n",
       "  7: 507.6763831052945,\n",
       "  9: 305.25552812333734},\n",
       " 550122: {0: 301.05596358231605,\n",
       "  1: 193.33730044732633,\n",
       "  4: 202.6896430391419,\n",
       "  6: 196.70584226540967,\n",
       "  7: 183.15733733967946,\n",
       "  9: 305.25552812333734},\n",
       " 550123: {0: 167.30012886251978,\n",
       "  1: 84.14311803152634,\n",
       "  4: 81.19834710743801,\n",
       "  6: 83.49586862093231,\n",
       "  7: 94.3571476950169,\n",
       "  9: 107.36525356484398},\n",
       " 550124: {0: 118.70478881618085,\n",
       "  1: 93.1653677353923,\n",
       "  4: 79.4990172049795,\n",
       "  6: 105.06868080315256,\n",
       "  7: 95.04132231404958,\n",
       "  9: 96.55856521530181},\n",
       " 550125: {0: 386.88485198000774,\n",
       "  1: 569.5326305808176,\n",
       "  4: 816.1560729571812,\n",
       "  6: 1735.8151161650817,\n",
       "  7: 4195.059623964496,\n",
       "  9: 5381.695376567066},\n",
       " 550126: {0: 460.9376531712577,\n",
       "  1: 687.9109744703417,\n",
       "  4: 1037.4967834035879,\n",
       "  6: 2590.6674884944114,\n",
       "  7: 5102.6853066834165,\n",
       "  9: 5632.594984713763},\n",
       " 550127: {0: 435.4262465577802,\n",
       "  1: 551.056513979774,\n",
       "  4: 906.9701917181612,\n",
       "  6: 1898.8550275482094,\n",
       "  7: 4495.1985609939575,\n",
       "  9: 5567.121259918949},\n",
       " 550128: {0: 233.96550023146563,\n",
       "  1: 366.2570358351862,\n",
       "  4: 898.465875888866,\n",
       "  6: 1949.90765625,\n",
       "  7: 5031.35057262376,\n",
       "  9: 5492.525877453897},\n",
       " 550129: {0: 145.0330746763694,\n",
       "  1: 352.91751658648985,\n",
       "  4: 601.9461460299027,\n",
       "  6: 1296.697047757425,\n",
       "  7: 3450.0621085865123,\n",
       "  9: 5409.523795359905},\n",
       " 550130: {0: 151.85881031334102,\n",
       "  1: 378.24119405292583,\n",
       "  4: 734.5954488720414,\n",
       "  6: 1603.7157815410253,\n",
       "  7: 3938.893912953032,\n",
       "  9: 5723.429375}}"
      ]
     },
     "execution_count": 23,
     "metadata": {},
     "output_type": "execute_result"
    }
   ],
   "source": [
    "amount_green"
   ]
  },
  {
   "cell_type": "code",
   "execution_count": 24,
   "id": "269f06c5",
   "metadata": {},
   "outputs": [],
   "source": [
    "def read_created_date(date):\n",
    "    year = int(date[0:4])\n",
    "    month = int(date[5:7])\n",
    "    day = int(date[8:10])\n",
    "    time = datetime(year, month, day)\n",
    "    return time\n",
    "\n",
    "item_dict_processed = {}\n",
    "for item in item_dict:\n",
    "    parent = item_dict[item]\n",
    "    if parent != 'No':\n",
    "        p = prod.Item.find(parent)\n",
    "        date = p.created_at\n",
    "        dt_parent = read_created_date(date)\n",
    "        \n",
    "        it = prod.Item.find(item)\n",
    "        date = it.created_at\n",
    "        dt_child = read_created_date(date)\n",
    "        \n",
    "        item_dict_processed[item] = (dt_child - dt_parent).days\n",
    "    else:\n",
    "        item_dict_processed[item] = 0"
   ]
  },
  {
   "cell_type": "code",
   "execution_count": 25,
   "id": "d68f7482",
   "metadata": {},
   "outputs": [
    {
     "data": {
      "text/plain": [
       "{550116: 310,\n",
       " 550117: 310,\n",
       " 550118: 310,\n",
       " 550119: 28,\n",
       " 550120: 28,\n",
       " 550121: 28,\n",
       " 550125: 6,\n",
       " 550126: 6,\n",
       " 550127: 6,\n",
       " 550122: 232,\n",
       " 550123: 232,\n",
       " 550124: 232,\n",
       " 550128: 0,\n",
       " 550129: 0,\n",
       " 550130: 0}"
      ]
     },
     "execution_count": 25,
     "metadata": {},
     "output_type": "execute_result"
    }
   ],
   "source": [
    "item_dict_processed"
   ]
  },
  {
   "cell_type": "code",
   "execution_count": 26,
   "id": "2602b650",
   "metadata": {},
   "outputs": [
    {
     "data": {
      "text/plain": [
       "{310: {0: [405.2276092321091, 349.6844247690579, 317.41183748616214],\n",
       "  1: [255.71953285767054, 173.81869647263753, 183.3454788816181],\n",
       "  4: [212.59964449513456, 188.6328803168403, 174.34272027870517],\n",
       "  6: [214.43054144287993, 148.0371900826446, 200.9889862241124],\n",
       "  7: [240.36280163646447, 194.4179451620326, 238.74399981886248],\n",
       "  9: [287.0269726247987, 216.37576292772013, 198.50206611570246]},\n",
       " 28: {0: [285.62965167344674, 381.01770939178397, 270.18140589569157],\n",
       "  1: [300.0946323410423, 315.38159849870647, 229.46607533319448],\n",
       "  4: [330.3602110123761, 351.4192387131027, 273.8704671951425],\n",
       "  6: [498.2981719630141, 469.92046875, 367.2174973327236],\n",
       "  7: [776.0976823923085, 630.9197600776627, 507.6763831052945],\n",
       "  9: [2193.947238658777, 1795.78701444924, 305.25552812333734]},\n",
       " 232: {0: [301.05596358231605, 167.30012886251978, 118.70478881618085],\n",
       "  1: [193.33730044732633, 84.14311803152634, 93.1653677353923],\n",
       "  4: [202.6896430391419, 81.19834710743801, 79.4990172049795],\n",
       "  6: [196.70584226540967, 83.49586862093231, 105.06868080315256],\n",
       "  7: [183.15733733967946, 94.3571476950169, 95.04132231404958],\n",
       "  9: [305.25552812333734, 107.36525356484398, 96.55856521530181]},\n",
       " 6: {0: [386.88485198000774, 460.9376531712577, 435.4262465577802],\n",
       "  1: [569.5326305808176, 687.9109744703417, 551.056513979774],\n",
       "  4: [816.1560729571812, 1037.4967834035879, 906.9701917181612],\n",
       "  6: [1735.8151161650817, 2590.6674884944114, 1898.8550275482094],\n",
       "  7: [4195.059623964496, 5102.6853066834165, 4495.1985609939575],\n",
       "  9: [5381.695376567066, 5632.594984713763, 5567.121259918949]},\n",
       " 0: {0: [233.96550023146563, 145.0330746763694, 151.85881031334102],\n",
       "  1: [366.2570358351862, 352.91751658648985, 378.24119405292583],\n",
       "  4: [898.465875888866, 601.9461460299027, 734.5954488720414],\n",
       "  6: [1949.90765625, 1296.697047757425, 1603.7157815410253],\n",
       "  7: [5031.35057262376, 3450.0621085865123, 3938.893912953032],\n",
       "  9: [5492.525877453897, 5409.523795359905, 5723.429375]}}"
      ]
     },
     "execution_count": 26,
     "metadata": {},
     "output_type": "execute_result"
    }
   ],
   "source": [
    "#for item\n",
    "    #get the number of hours\n",
    "    #for each hour in that item\n",
    "        #append the green count to the hour value for that number of hours since start\n",
    "in_fridge_vs_green = {}\n",
    "for item in sorted(list(item_dict_processed.keys())):\n",
    "    in_fridge = item_dict_processed[item]\n",
    "    if in_fridge not in in_fridge_vs_green:\n",
    "        in_fridge_vs_green[in_fridge] = {}\n",
    "    for hour in amount_green[item]:\n",
    "        if hour not in in_fridge_vs_green[in_fridge]:\n",
    "            in_fridge_vs_green[in_fridge][hour] = []\n",
    "        in_fridge_vs_green[in_fridge][hour].append(amount_green[item][hour])\n",
    "in_fridge_vs_green"
   ]
  },
  {
   "cell_type": "code",
   "execution_count": 32,
   "id": "4d000fac",
   "metadata": {},
   "outputs": [
    {
     "data": {
      "image/png": "[encoded data removed]",
      "text/plain": [
       "<Figure size 432x288 with 1 Axes>"
      ]
     },
     "metadata": {
      "needs_background": "light"
     },
     "output_type": "display_data"
    }
   ],
   "source": [
    "colors = {\n",
    "    310: \"#345eeb\",\n",
    "    232: \"#1bd12d\",\n",
    "    28: \"#e38d0b\",\n",
    "    6: \"#eb0cd4\",\n",
    "    0:  \"#000000\"\n",
    "}\n",
    "\n",
    "import matplotlib.pyplot as plt\n",
    "for fridge in sorted(list(in_fridge_vs_green.keys())):\n",
    "    x = list(in_fridge_vs_green[fridge].keys())\n",
    "    y = [sum(z)/len(z) for z in in_fridge_vs_green[fridge].values()]\n",
    "    plt.plot(x, y, label = fridge, color = colors[fridge])\n",
    "    plt.xlabel(\"Days of Recovery\")\n",
    "    plt.ylabel(\"Frond area ({}\\u00b2)\".format(\"mm\"))\n",
    "plt.legend(title = 'Days in Fridge Pre Experiment')\n",
    "plt.savefig(\"fridge_experiment.jpg\")"
   ]
  }
 ],
 "metadata": {
  "kernelspec": {
   "display_name": "default_kernel",
   "language": "python",
   "name": "myenv"
  },
  "language_info": {
   "codemirror_mode": {
    "name": "ipython",
    "version": 3
   },
   "file_extension": ".py",
   "mimetype": "text/x-python",
   "name": "python",
   "nbconvert_exporter": "python",
   "pygments_lexer": "ipython3",
   "version": "3.7.6"
  }
 },
 "nbformat": 4,
 "nbformat_minor": 5
}
