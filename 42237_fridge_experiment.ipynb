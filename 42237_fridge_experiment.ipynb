{
 "cells": [
  {
   "cell_type": "code",
   "execution_count": 1,
   "id": "675e5b77",
   "metadata": {},
   "outputs": [],
   "source": [
    "from pydent import AqSession #pydent is the Aquarium module for python, installable using pip\n",
    "import os\n",
    "import datetime\n",
    "from PIL import Image, ExifTags\n",
    "import cv2\n",
    "import numpy as np\n",
    "from datetime import datetime\n",
    "import json\n",
    "import pandas as pd\n",
    "import matplotlib.pyplot as plt\n",
    "import statistics"
   ]
  },
  {
   "cell_type": "code",
   "execution_count": 2,
   "id": "60e77283",
   "metadata": {},
   "outputs": [],
   "source": [
    "username = \"maddyscott\"\n",
    "password = \"duckweedrox\"\n",
    "plan_id = 42237\n",
    "cwd = os.getcwd()\n",
    "dir_path_original= \"%s/Images_Plan_%d\" % (cwd, plan_id)\n",
    "dir_path_resized= \"%s/Images_%d_CROPPED\" % (cwd, plan_id)\n",
    "dir_path_green= \"%s/Images_%d_JUSTGREEN\" % (cwd, plan_id)\n",
    "dir_path_clusters = \"%s/Images_%d_CLUSTERS\" % (cwd, plan_id)\n",
    "REDUCTION = 10\n",
    "PETRI_DIAM = 95 #in mm, the diameter of the TOP lid of the petri dish"
   ]
  },
  {
   "cell_type": "code",
   "execution_count": 3,
   "id": "91ced58b",
   "metadata": {},
   "outputs": [],
   "source": [
    "#takes in the image metadata and reformats it\n",
    "def parse_datetime(x):\n",
    "    x = x.replace(\" \", \":\")\n",
    "    splt = x.split(\":\")\n",
    "    datime = \"yr_%s_month_%s_day_%s_hour_%s\" % (splt[0], splt[1], splt[2], splt[3])\n",
    "    return datime\n",
    "\n",
    "#takes a file name of the format defined in \"parse_datetime()\" and returns the month, day, and hour\n",
    "def file_to_datetime(filename):\n",
    "    f = filename.split(\"_\")\n",
    "    year = int(f[3])\n",
    "    month = int(f[5])\n",
    "    day = int(f[7])\n",
    "    hr = int(f[9].split(\".\")[0])\n",
    "    return year, month, day, hr  \n",
    "\n",
    "#returns the difference between two dates\n",
    "def days_since_start(oldest, file):\n",
    "    m, d, hr = file_to_datetime(file)\n",
    "    new = datetime(2021, m, d, hr, 0, 0)\n",
    "    return (new-oldest).total_seconds()/(60*60*24)\n",
    "\n",
    "#takes an image and renames it. If the image has been rotated, it returns it to the original orientation\n",
    "def rename(upload_name, item_id):\n",
    "    #now, we're going to open the image to get the metadata and rename it\n",
    "    im = Image.open(os.path.join(dir_path_original, upload_name))\n",
    "    datetime = parse_datetime(im._getexif()[36867])\n",
    "    new_name = \"item_%s_%s.jpg\" % (str(item_id), datetime)\n",
    "    \n",
    "    #rotate the image to ensure the orientation is correct\n",
    "    #search for keys until you land on the numerical value for orientation\n",
    "    for orientation in ExifTags.TAGS.keys():\n",
    "        if ExifTags.TAGS[orientation]=='Orientation':\n",
    "            break\n",
    "    #getting the metadata and ensuring we preserve image rotation\n",
    "    exif=dict(im._getexif().items())\n",
    "    if exif[orientation] == 3 : \n",
    "        im=im.rotate(180, expand=True)\n",
    "    elif exif[orientation] == 6 : \n",
    "        im=im.rotate(270, expand=True)\n",
    "    elif exif[orientation] == 8 : \n",
    "        im=im.rotate(90, expand=True)\n",
    "    \n",
    "    im.save(os.path.join(dir_path_original, new_name))\n",
    "    os.remove(os.path.join(dir_path_original, upload_name))\n",
    "    \n",
    "#takes in an image and a circle and crops the image to that circle (in our case, the circle is the petri dish)\n",
    "def crop_to_dish(img, i):\n",
    "    xmin = i[0] - i[2]\n",
    "    xmax = i[0] + i[2]\n",
    "    ymin = i[1] - i[2]\n",
    "    ymax = i[1] + i[2]\n",
    "    height,width = cv2.cvtColor(img, cv2.COLOR_BGR2GRAY).shape\n",
    "    mask = np.zeros((height,width), np.uint8)\n",
    "    circle_img = cv2.circle(mask, (i[0],i[1]), i[2],(255,255,255),thickness=-1)\n",
    "    masked_data = cv2.bitwise_and(img, img, mask=circle_img)\n",
    "    crop = masked_data[ymin:ymax,xmin:xmax]\n",
    "    return crop\n",
    "\n",
    "#returns the difference between two dates\n",
    "def days_since_start(oldest, file):\n",
    "    m, d, hr = file_to_datetime(file)\n",
    "    new = datetime(2021, m, d, hr, 0, 0)\n",
    "    return (new-oldest).total_seconds()/(60*60*24)"
   ]
  },
  {
   "cell_type": "code",
   "execution_count": 4,
   "id": "92d9c9c7",
   "metadata": {},
   "outputs": [],
   "source": [
    "\"\"\"\n",
    "Connecting to Aquarium\n",
    "\"\"\"\n",
    "prod = AqSession(username, password,\"http://52.27.43.242/\") #the URL is for the UW BIOFAB production server"
   ]
  },
  {
   "cell_type": "code",
   "execution_count": 5,
   "id": "74499820",
   "metadata": {},
   "outputs": [],
   "source": [
    "items = []\n",
    "plan = prod.Plan.find(plan_id)\n",
    "\n",
    "for x in plan.operations: #get the operations of the plan\n",
    "    oper = prod.Operation.find(x.id)\n",
    "    if oper.operation_type.name == \"Image Container of Duckweed\" and oper.status == 'done': #if the operation was imaging and it is done\n",
    "        for y in oper.outputs: #look at the items associated with that operation\n",
    "            item = prod.Item.find(y.item.id) \n",
    "            if item.sample.name == \"S. polyrhiza 7498\" and item.id not in items:\n",
    "                items.append(item.id)"
   ]
  },
  {
   "cell_type": "code",
   "execution_count": 6,
   "id": "1c890033",
   "metadata": {},
   "outputs": [
    {
     "data": {
      "text/plain": [
       "[550116,\n",
       " 550117,\n",
       " 550118,\n",
       " 550119,\n",
       " 550120,\n",
       " 550121,\n",
       " 550125,\n",
       " 550126,\n",
       " 550127,\n",
       " 550122,\n",
       " 550123,\n",
       " 550124,\n",
       " 550128,\n",
       " 550129,\n",
       " 550130]"
      ]
     },
     "execution_count": 6,
     "metadata": {},
     "output_type": "execute_result"
    }
   ],
   "source": [
    "items"
   ]
  },
  {
   "cell_type": "code",
   "execution_count": 7,
   "id": "cab0e1fc",
   "metadata": {},
   "outputs": [],
   "source": [
    "item_dict = {}\n",
    "for item in items:\n",
    "    i = prod.Item.find(item)\n",
    "    treatment_json = [x.value for x in i.data_associations if x.key == 'Treatment'][0]\n",
    "    for key_value in treatment_json:\n",
    "        item_dict[item] = treatment_json[key_value]"
   ]
  },
  {
   "cell_type": "code",
   "execution_count": 8,
   "id": "f88ccc34",
   "metadata": {},
   "outputs": [
    {
     "data": {
      "text/plain": [
       "{550116: '505318',\n",
       " 550117: '505318',\n",
       " 550118: '505318',\n",
       " 550119: '545767',\n",
       " 550120: '545767',\n",
       " 550121: '545767',\n",
       " 550125: '548738',\n",
       " 550126: '548738',\n",
       " 550127: '548738',\n",
       " 550122: '518753',\n",
       " 550123: '518753',\n",
       " 550124: '518753',\n",
       " 550128: 'No',\n",
       " 550129: 'No',\n",
       " 550130: 'No'}"
      ]
     },
     "execution_count": 8,
     "metadata": {},
     "output_type": "execute_result"
    }
   ],
   "source": [
    "item_dict"
   ]
  },
  {
   "cell_type": "code",
   "execution_count": 10,
   "id": "eff02500",
   "metadata": {},
   "outputs": [
    {
     "name": "stdout",
     "output_type": "stream",
     "text": [
      "Directory already exists. All files removed.\n",
      "All files downloaded and renamed\n"
     ]
    }
   ],
   "source": [
    "#If the desired directory to download images into already exists, delete all files in it. Otherwise, make the directory\n",
    "try:\n",
    "    os.mkdir(dir_path_original)\n",
    "    print(\"Directory created\")\n",
    "except:\n",
    "    for f in os.listdir(dir_path_original):\n",
    "        os.remove(os.path.join(dir_path_original, f))\n",
    "    print(\"Directory already exists. All files removed.\")\n",
    "\n",
    "#download the images\n",
    "for item in items:\n",
    "    item = prod.Item.find(item) \n",
    "    #for every data association, find the upload. If it is an image, get the upload value\n",
    "    for assoc in item.data_associations:\n",
    "        #if the data association is an image (those are saved in arrays)\n",
    "        if type(assoc.value) == type([]):\n",
    "            for i in range(len(assoc.value)):\n",
    "                upload_id = assoc.value[i]['id']\n",
    "                u = prod.Upload.find(upload_id)\n",
    "                if \".jpg\" in u.name: \n",
    "                    u.download(outdir=dir_path_original, filename = u.name, overwrite=True)\n",
    "                    rename(u.name, item.id)\n",
    "print(\"All files downloaded and renamed\")"
   ]
  },
  {
   "cell_type": "code",
   "execution_count": 13,
   "id": "1fcedb27",
   "metadata": {},
   "outputs": [
    {
     "name": "stdout",
     "output_type": "stream",
     "text": [
      "All files replaced.\n"
     ]
    }
   ],
   "source": [
    "\"\"\"\n",
    "Resizing the images so finding the petri dish with Hough Circles (the operation to identify the petri dish) won't take forever\n",
    "\"\"\"\n",
    "#making a new directory for ther esized images\n",
    "\n",
    "try:\n",
    "    os.mkdir(dir_path_resized)\n",
    "except:\n",
    "    for f in os.listdir(dir_path_resized):\n",
    "        os.remove(os.path.join(dir_path_resized, f))\n",
    "    print(\"Directory already exists. All files removed.\")\n",
    "\n",
    "#for each file, resize and save in new directory\n",
    "for filename in os.listdir(dir_path_original):\n",
    "    if \".jpg\" in filename:\n",
    "        im_dir = dir_path_original + \"/\" + filename\n",
    "        im = Image.open(im_dir)\n",
    "\n",
    "        #Resize image and save\n",
    "        h, w = im.size\n",
    "        im = im.resize((int(h/REDUCTION), int(w/REDUCTION)), Image.ANTIALIAS)\n",
    "        im.save(dir_path_resized + \"/\" + filename)\n",
    "print(\"All files replaced.\")\n",
    "    "
   ]
  },
  {
   "cell_type": "code",
   "execution_count": 14,
   "id": "4176e4c0",
   "metadata": {},
   "outputs": [
    {
     "name": "stdout",
     "output_type": "stream",
     "text": [
      "All files cropped\n"
     ]
    }
   ],
   "source": [
    "\"\"\"\n",
    "Crop images CANNOT RUN THIS CELL TWICE IN A ROW; MUST RERUN PREVIOUS CELL EACH TIME\n",
    "\"\"\"\n",
    "\n",
    "for file in os.listdir(dir_path_resized):\n",
    "\n",
    "    #finding the petri dishes on the compressed file\n",
    "    im_orig = cv2.imread(dir_path_resized + \"/\" + file)\n",
    "    im = cv2.cvtColor(im_orig, cv2.COLOR_BGR2GRAY)\n",
    "    im = cv2.GaussianBlur(im,(5,5),0)\n",
    "    circles = cv2.HoughCircles(im,cv2.HOUGH_GRADIENT,1.8, minDist = 100, param1=50, param2=90, minRadius = 90, maxRadius=200)\n",
    "    im_full = cv2.imread(dir_path_original + \"/\" +file)\n",
    "    \n",
    "    #cropping uncompressed images to the petri dish\n",
    "    crop = np.zeros((400, 400))\n",
    "    for i in circles[0,:]:\n",
    "        i = [int(n*10) for n in i] #make int(n*10) if using im_full\n",
    "        crop = crop_to_dish(im_full, i) \n",
    "        break\n",
    "\n",
    "    #removing the images we just saved and replacing them with the uncompressed, cropped images\n",
    "    os.remove(os.path.join(dir_path_resized, file)) \n",
    "\n",
    "    new_im = Image.fromarray(cv2.cvtColor(crop, cv2.COLOR_BGR2RGB))\n",
    "    h, w = new_im.size\n",
    "    new_im = new_im.resize((int(2*h/REDUCTION), int(2*w/REDUCTION)), Image.ANTIALIAS)\n",
    "    new_im.save(dir_path_resized + \"/\" + file)\n",
    "print(\"All files cropped\")"
   ]
  },
  {
   "cell_type": "code",
   "execution_count": 9,
   "id": "10a0e567",
   "metadata": {},
   "outputs": [],
   "source": [
    "\"\"\"\n",
    "Finding the oldest date from all of the image exifs to set as T=0 later\n",
    "\"\"\"\n",
    "#takes a file name of the format defined in \"parse_datetime()\" and returns the month, day, and hour\n",
    "oldest = datetime.now()\n",
    "for file in os.listdir(dir_path_resized):\n",
    "    yr, m, d, hr = file_to_datetime(file)\n",
    "    new = datetime(yr, m, d, hr, 0, 0)\n",
    "    dif = new - oldest\n",
    "    dif = dif.total_seconds()\n",
    "    if dif < 0:\n",
    "        oldest = new"
   ]
  },
  {
   "cell_type": "code",
   "execution_count": 10,
   "id": "b0146f74",
   "metadata": {},
   "outputs": [
    {
     "data": {
      "text/plain": [
       "{550116: datetime.datetime(2021, 12, 14, 15, 0),\n",
       " 550117: datetime.datetime(2021, 12, 14, 15, 0),\n",
       " 550118: datetime.datetime(2021, 12, 14, 15, 0),\n",
       " 550119: datetime.datetime(2021, 12, 14, 15, 0),\n",
       " 550120: datetime.datetime(2021, 12, 14, 15, 0),\n",
       " 550121: datetime.datetime(2021, 12, 14, 15, 0),\n",
       " 550125: datetime.datetime(2021, 12, 14, 15, 0),\n",
       " 550126: datetime.datetime(2021, 12, 14, 15, 0),\n",
       " 550127: datetime.datetime(2021, 12, 14, 15, 0),\n",
       " 550122: datetime.datetime(2021, 12, 14, 15, 0),\n",
       " 550123: datetime.datetime(2021, 12, 14, 15, 0),\n",
       " 550124: datetime.datetime(2021, 12, 14, 15, 0),\n",
       " 550128: datetime.datetime(2021, 12, 14, 15, 0),\n",
       " 550129: datetime.datetime(2021, 12, 14, 15, 0),\n",
       " 550130: datetime.datetime(2021, 12, 14, 15, 0)}"
      ]
     },
     "execution_count": 10,
     "metadata": {},
     "output_type": "execute_result"
    }
   ],
   "source": [
    "start_time = {}\n",
    "for item in items:\n",
    "    start_time[item] = datetime.now()\n",
    "    for file in os.listdir(dir_path_resized):\n",
    "        if int(file[5:11]) == item:\n",
    "            year, month, day, hr = file_to_datetime(file)\n",
    "            date = datetime(year, month, day, hr)\n",
    "            if date < start_time[item]:\n",
    "                start_time[item] = date\n",
    "start_time"
   ]
  },
  {
   "cell_type": "code",
   "execution_count": 11,
   "id": "b33d3ac4",
   "metadata": {},
   "outputs": [
    {
     "name": "stdout",
     "output_type": "stream",
     "text": [
      "Directory already exists. All files removed and replaced.\n",
      "Average colors and area of green computed and images saved!\n"
     ]
    }
   ],
   "source": [
    "try:\n",
    "    os.mkdir(dir_path_green)\n",
    "except:\n",
    "    for f in os.listdir(dir_path_green):\n",
    "        os.remove(os.path.join(dir_path_green, f))\n",
    "    print(\"Directory already exists. All files removed and replaced.\")\n",
    "\n",
    "avg_colors = {}\n",
    "amount_green = {}\n",
    "for file in os.listdir(dir_path_resized):\n",
    "    im = cv2.imread(os.path.join(dir_path_resized, file))\n",
    "    \n",
    "    item = int(file.split(\"_\")[1])\n",
    "    if item not in amount_green:\n",
    "        amount_green[item] = {}\n",
    "    if item not in avg_colors:\n",
    "        avg_colors[item] = {}\n",
    "    #now add this datetime to the array of info for this item\n",
    "    y, m, d, h = file_to_datetime(file)\n",
    "    curr_date = datetime(y, m, d, h)\n",
    "    diff = curr_date - start_time[item]\n",
    "    day = diff.days\n",
    "    \n",
    "    amount_green[item][day] = 0   \n",
    "    for i in range(im.shape[0]):\n",
    "        for j in range(im.shape[1]):\n",
    "            if im[i, j][0] > .9*im[i, j][1]:\n",
    "                im[i, j] = [0, 0, 0]\n",
    "            if np.array([x < 100 for x in im[i, j]]).all():\n",
    "                im[i, j] = [0, 0, 0]\n",
    "            else:\n",
    "                amount_green[item][day] += 1\n",
    "                \n",
    "            \n",
    "    im = cv2.cvtColor(im, cv2.COLOR_BGR2RGB)\n",
    "    arr = np.array(im)\n",
    "    temp = arr.reshape(arr.shape[0]**2, 3)\n",
    "    \n",
    "    #summing all of the green pixels for each image\n",
    "    s  = [sum(temp[x,0] for x in range(temp.shape[0])), sum(temp[x,1] for x in range(temp.shape[0])), sum(temp[x,2] for x in range(temp.shape[0]))]\n",
    "    \n",
    "    #summing all three pixel values for each pixel and counting the number of non-zero (green) pixels \n",
    "    x = np.array([sum(temp[i]) for i in range(temp.shape[0])])\n",
    "    n = np.count_nonzero(x)\n",
    "    \n",
    "    #computing the average\n",
    "    avg = [val/n for val in s]\n",
    "    \n",
    "    #making sure both counts of the amount of green are consistent\n",
    "    assert amount_green[item][day] == n\n",
    "    \n",
    "    #assigning the average color to the correct item and day\n",
    "    avg_colors[item][day] = avg\n",
    "    \n",
    "    #change so we're recording the area of the image that is green, based on the fact that the h/w of image is the diameter of the petri dish\n",
    "    num_pix = amount_green[item][day]\n",
    "    area = num_pix*(1.0*PETRI_DIAM/im.shape[0])**2\n",
    "    amount_green[item][day] = area\n",
    "    \n",
    "    #saving the image of just the green\n",
    "    img = Image.fromarray(im)\n",
    "    img.save(dir_path_green + \"/\" + file)\n",
    "print(\"Average colors and area of green computed and images saved!\")"
   ]
  },
  {
   "cell_type": "code",
   "execution_count": 12,
   "id": "217faf70",
   "metadata": {},
   "outputs": [
    {
     "data": {
      "text/plain": [
       "{550116: {0: 405.2276092321091,\n",
       "  1: 255.71953285767054,\n",
       "  4: 212.59964449513456,\n",
       "  6: 214.43054144287993,\n",
       "  7: 240.36280163646447,\n",
       "  9: 287.0269726247987},\n",
       " 550117: {0: 349.6844247690579,\n",
       "  1: 173.81869647263753,\n",
       "  4: 188.6328803168403,\n",
       "  6: 148.0371900826446,\n",
       "  7: 194.4179451620326,\n",
       "  9: 216.37576292772013},\n",
       " 550118: {0: 317.41183748616214,\n",
       "  1: 183.3454788816181,\n",
       "  4: 174.34272027870517,\n",
       "  6: 200.9889862241124,\n",
       "  7: 238.74399981886248,\n",
       "  9: 198.50206611570246},\n",
       " 550119: {0: 285.62965167344674,\n",
       "  1: 300.0946323410423,\n",
       "  4: 330.3602110123761,\n",
       "  6: 498.2981719630141,\n",
       "  7: 776.0976823923085,\n",
       "  9: 2193.947238658777},\n",
       " 550120: {0: 381.01770939178397,\n",
       "  1: 315.38159849870647,\n",
       "  4: 351.4192387131027,\n",
       "  6: 469.92046875,\n",
       "  7: 630.9197600776627,\n",
       "  9: 1795.78701444924},\n",
       " 550121: {0: 270.18140589569157,\n",
       "  1: 229.46607533319448,\n",
       "  4: 273.8704671951425,\n",
       "  6: 367.2174973327236,\n",
       "  7: 507.6763831052945,\n",
       "  9: 305.25552812333734},\n",
       " 550122: {0: 301.05596358231605,\n",
       "  1: 193.33730044732633,\n",
       "  4: 202.6896430391419,\n",
       "  6: 196.70584226540967,\n",
       "  7: 183.15733733967946,\n",
       "  9: 305.25552812333734},\n",
       " 550123: {0: 167.30012886251978,\n",
       "  1: 84.14311803152634,\n",
       "  4: 81.19834710743801,\n",
       "  6: 83.49586862093231,\n",
       "  7: 94.3571476950169,\n",
       "  9: 107.36525356484398},\n",
       " 550124: {0: 118.70478881618085,\n",
       "  1: 93.1653677353923,\n",
       "  4: 79.4990172049795,\n",
       "  6: 105.06868080315256,\n",
       "  7: 95.04132231404958,\n",
       "  9: 96.55856521530181},\n",
       " 550125: {0: 386.88485198000774,\n",
       "  1: 569.5326305808176,\n",
       "  4: 816.1560729571812,\n",
       "  6: 1735.8151161650817,\n",
       "  7: 4195.059623964496,\n",
       "  9: 5381.695376567066},\n",
       " 550126: {0: 460.9376531712577,\n",
       "  1: 687.9109744703417,\n",
       "  4: 1037.4967834035879,\n",
       "  6: 2590.6674884944114,\n",
       "  7: 5102.6853066834165,\n",
       "  9: 5632.594984713763},\n",
       " 550127: {0: 435.4262465577802,\n",
       "  1: 551.056513979774,\n",
       "  4: 906.9701917181612,\n",
       "  6: 1898.8550275482094,\n",
       "  7: 4495.1985609939575,\n",
       "  9: 5567.121259918949},\n",
       " 550128: {0: 233.96550023146563,\n",
       "  1: 366.2570358351862,\n",
       "  4: 898.465875888866,\n",
       "  6: 1949.90765625,\n",
       "  7: 5031.35057262376,\n",
       "  9: 5492.525877453897},\n",
       " 550129: {0: 145.0330746763694,\n",
       "  1: 352.91751658648985,\n",
       "  4: 601.9461460299027,\n",
       "  6: 1296.697047757425,\n",
       "  7: 3450.0621085865123,\n",
       "  9: 5409.523795359905},\n",
       " 550130: {0: 151.85881031334102,\n",
       "  1: 378.24119405292583,\n",
       "  4: 734.5954488720414,\n",
       "  6: 1603.7157815410253,\n",
       "  7: 3938.893912953032,\n",
       "  9: 5723.429375}}"
      ]
     },
     "execution_count": 12,
     "metadata": {},
     "output_type": "execute_result"
    }
   ],
   "source": [
    "amount_green"
   ]
  },
  {
   "cell_type": "code",
   "execution_count": 13,
   "id": "269f06c5",
   "metadata": {},
   "outputs": [],
   "source": [
    "def read_created_date(date):\n",
    "    year = int(date[0:4])\n",
    "    month = int(date[5:7])\n",
    "    day = int(date[8:10])\n",
    "    time = datetime(year, month, day)\n",
    "    return time\n",
    "\n",
    "item_dict_processed = {}\n",
    "for item in item_dict:\n",
    "    parent = item_dict[item]\n",
    "    if parent != 'No':\n",
    "        p = prod.Item.find(parent)\n",
    "        date = p.created_at\n",
    "        dt_parent = read_created_date(date)\n",
    "        \n",
    "        it = prod.Item.find(item)\n",
    "        date = it.created_at\n",
    "        dt_child = read_created_date(date)\n",
    "        \n",
    "        item_dict_processed[item] = (dt_child - dt_parent).days\n",
    "    else:\n",
    "        item_dict_processed[item] = 0"
   ]
  },
  {
   "cell_type": "code",
   "execution_count": 14,
   "id": "d68f7482",
   "metadata": {},
   "outputs": [
    {
     "data": {
      "text/plain": [
       "{550116: 310,\n",
       " 550117: 310,\n",
       " 550118: 310,\n",
       " 550119: 28,\n",
       " 550120: 28,\n",
       " 550121: 28,\n",
       " 550125: 6,\n",
       " 550126: 6,\n",
       " 550127: 6,\n",
       " 550122: 232,\n",
       " 550123: 232,\n",
       " 550124: 232,\n",
       " 550128: 0,\n",
       " 550129: 0,\n",
       " 550130: 0}"
      ]
     },
     "execution_count": 14,
     "metadata": {},
     "output_type": "execute_result"
    }
   ],
   "source": [
    "item_dict_processed"
   ]
  },
  {
   "cell_type": "code",
   "execution_count": 15,
   "id": "2602b650",
   "metadata": {
    "scrolled": true
   },
   "outputs": [
    {
     "data": {
      "text/plain": [
       "{310: {0: [405.2276092321091, 349.6844247690579, 317.41183748616214],\n",
       "  1: [255.71953285767054, 173.81869647263753, 183.3454788816181],\n",
       "  4: [212.59964449513456, 188.6328803168403, 174.34272027870517],\n",
       "  6: [214.43054144287993, 148.0371900826446, 200.9889862241124],\n",
       "  7: [240.36280163646447, 194.4179451620326, 238.74399981886248],\n",
       "  9: [287.0269726247987, 216.37576292772013, 198.50206611570246]},\n",
       " 28: {0: [285.62965167344674, 381.01770939178397, 270.18140589569157],\n",
       "  1: [300.0946323410423, 315.38159849870647, 229.46607533319448],\n",
       "  4: [330.3602110123761, 351.4192387131027, 273.8704671951425],\n",
       "  6: [498.2981719630141, 469.92046875, 367.2174973327236],\n",
       "  7: [776.0976823923085, 630.9197600776627, 507.6763831052945],\n",
       "  9: [2193.947238658777, 1795.78701444924, 305.25552812333734]},\n",
       " 232: {0: [301.05596358231605, 167.30012886251978, 118.70478881618085],\n",
       "  1: [193.33730044732633, 84.14311803152634, 93.1653677353923],\n",
       "  4: [202.6896430391419, 81.19834710743801, 79.4990172049795],\n",
       "  6: [196.70584226540967, 83.49586862093231, 105.06868080315256],\n",
       "  7: [183.15733733967946, 94.3571476950169, 95.04132231404958],\n",
       "  9: [305.25552812333734, 107.36525356484398, 96.55856521530181]},\n",
       " 6: {0: [386.88485198000774, 460.9376531712577, 435.4262465577802],\n",
       "  1: [569.5326305808176, 687.9109744703417, 551.056513979774],\n",
       "  4: [816.1560729571812, 1037.4967834035879, 906.9701917181612],\n",
       "  6: [1735.8151161650817, 2590.6674884944114, 1898.8550275482094],\n",
       "  7: [4195.059623964496, 5102.6853066834165, 4495.1985609939575],\n",
       "  9: [5381.695376567066, 5632.594984713763, 5567.121259918949]},\n",
       " 0: {0: [233.96550023146563, 145.0330746763694, 151.85881031334102],\n",
       "  1: [366.2570358351862, 352.91751658648985, 378.24119405292583],\n",
       "  4: [898.465875888866, 601.9461460299027, 734.5954488720414],\n",
       "  6: [1949.90765625, 1296.697047757425, 1603.7157815410253],\n",
       "  7: [5031.35057262376, 3450.0621085865123, 3938.893912953032],\n",
       "  9: [5492.525877453897, 5409.523795359905, 5723.429375]}}"
      ]
     },
     "execution_count": 15,
     "metadata": {},
     "output_type": "execute_result"
    }
   ],
   "source": [
    "#for item\n",
    "    #get the number of hours\n",
    "    #for each hour in that item\n",
    "        #append the green count to the hour value for that number of hours since start\n",
    "in_fridge_vs_green = {}\n",
    "for item in sorted(list(item_dict_processed.keys())):\n",
    "    in_fridge = item_dict_processed[item]\n",
    "    if in_fridge not in in_fridge_vs_green:\n",
    "        in_fridge_vs_green[in_fridge] = {}\n",
    "    for hour in amount_green[item]:\n",
    "        if hour not in in_fridge_vs_green[in_fridge]:\n",
    "            in_fridge_vs_green[in_fridge][hour] = []\n",
    "        in_fridge_vs_green[in_fridge][hour].append(amount_green[item][hour])\n",
    "in_fridge_vs_green"
   ]
  },
  {
   "cell_type": "code",
   "execution_count": 17,
   "id": "a0216161",
   "metadata": {},
   "outputs": [
    {
     "data": {
      "text/plain": [
       "[[[405.2276092321091, 349.6844247690579, 317.41183748616214],\n",
       "  [255.71953285767054, 173.81869647263753, 183.3454788816181],\n",
       "  [212.59964449513456, 188.6328803168403, 174.34272027870517],\n",
       "  [214.43054144287993, 148.0371900826446, 200.9889862241124],\n",
       "  [240.36280163646447, 194.4179451620326, 238.74399981886248],\n",
       "  [287.0269726247987, 216.37576292772013, 198.50206611570246]],\n",
       " [[285.62965167344674, 381.01770939178397, 270.18140589569157],\n",
       "  [300.0946323410423, 315.38159849870647, 229.46607533319448],\n",
       "  [330.3602110123761, 351.4192387131027, 273.8704671951425],\n",
       "  [498.2981719630141, 469.92046875, 367.2174973327236],\n",
       "  [776.0976823923085, 630.9197600776627, 507.6763831052945],\n",
       "  [2193.947238658777, 1795.78701444924, 305.25552812333734]],\n",
       " [[301.05596358231605, 167.30012886251978, 118.70478881618085],\n",
       "  [193.33730044732633, 84.14311803152634, 93.1653677353923],\n",
       "  [202.6896430391419, 81.19834710743801, 79.4990172049795],\n",
       "  [196.70584226540967, 83.49586862093231, 105.06868080315256],\n",
       "  [183.15733733967946, 94.3571476950169, 95.04132231404958],\n",
       "  [305.25552812333734, 107.36525356484398, 96.55856521530181]],\n",
       " [[386.88485198000774, 460.9376531712577, 435.4262465577802],\n",
       "  [569.5326305808176, 687.9109744703417, 551.056513979774],\n",
       "  [816.1560729571812, 1037.4967834035879, 906.9701917181612],\n",
       "  [1735.8151161650817, 2590.6674884944114, 1898.8550275482094],\n",
       "  [4195.059623964496, 5102.6853066834165, 4495.1985609939575],\n",
       "  [5381.695376567066, 5632.594984713763, 5567.121259918949]],\n",
       " [[233.96550023146563, 145.0330746763694, 151.85881031334102],\n",
       "  [366.2570358351862, 352.91751658648985, 378.24119405292583],\n",
       "  [898.465875888866, 601.9461460299027, 734.5954488720414],\n",
       "  [1949.90765625, 1296.697047757425, 1603.7157815410253],\n",
       "  [5031.35057262376, 3450.0621085865123, 3938.893912953032],\n",
       "  [5492.525877453897, 5409.523795359905, 5723.429375]]]"
      ]
     },
     "execution_count": 17,
     "metadata": {},
     "output_type": "execute_result"
    }
   ],
   "source": [
    "x = [list(in_fridge_vs_green[f].values()) for f in list(in_fridge_vs_green.keys())]\n",
    "x"
   ]
  },
  {
   "cell_type": "code",
   "execution_count": 28,
   "id": "4d000fac",
   "metadata": {
    "scrolled": true
   },
   "outputs": [
    {
     "data": {
      "image/png": "[encoded data removed]",
      "text/plain": [
       "<Figure size 432x288 with 1 Axes>"
      ]
     },
     "metadata": {
      "needs_background": "light"
     },
     "output_type": "display_data"
    }
   ],
   "source": [
    "colors = {\n",
    "    310: \"#345eeb\",\n",
    "    232: \"#1bd12d\",\n",
    "    28: \"#e38d0b\",\n",
    "    6: \"#eb0cd4\",\n",
    "    0:  \"#000000\"\n",
    "}\n",
    "\n",
    "import matplotlib.pyplot as plt\n",
    "for fridge in sorted(list(in_fridge_vs_green.keys())):\n",
    "    x = list(in_fridge_vs_green[fridge].keys())\n",
    "    y = [sum(z)/len(z) for z in in_fridge_vs_green[fridge].values()]\n",
    "    err = [statistics.stdev(x) for x in in_fridge_vs_green[fridge].values()]\n",
    "    plt.errorbar(x, y, yerr = err, label = fridge, color = colors[fridge])\n",
    "    plt.xlabel(\"Days of Recovery\")\n",
    "    plt.ylabel(\"Frond area ({}\\u00b2)\".format(\"mm\"))\n",
    "plt.legend(title = 'Days in Fridge Pre Experiment')\n",
    "plt.savefig(\"fridge_experiment.jpg\")"
   ]
  },
  {
   "cell_type": "code",
   "execution_count": 121,
   "id": "0d39e60a",
   "metadata": {
    "scrolled": false
   },
   "outputs": [
    {
     "name": "stdout",
     "output_type": "stream",
     "text": [
      "Name     Value      Min      Max   Stderr     Vary     Expr Brute_Step\n",
      "N0     32.56     -inf      inf    2.388     True     None     None\n",
      "l    -0.1437     -inf      inf  0.03084     True     None     None\n"
     ]
    },
    {
     "data": {
      "image/png": "[encoded data removed]",
      "text/plain": [
       "<Figure size 432x288 with 1 Axes>"
      ]
     },
     "metadata": {
      "needs_background": "light"
     },
     "output_type": "display_data"
    }
   ],
   "source": [
    "rgrs = {}\n",
    "err_rgrs = {}\n",
    "for conc in in_fridge_vs_green:\n",
    "    intial = list(in_fridge_vs_green[conc][0])\n",
    "    final = list(in_fridge_vs_green[conc][9])\n",
    "    #first get the rgrs for each replicate\n",
    "    crgrs = [b/a for a, b in zip(intial, final)]\n",
    "    #add average of each replicate's rgr to the dict\n",
    "    rgrs[conc] = sum(crgrs)/len(crgrs)\n",
    "    #errors to err dict\n",
    "    err_rgrs[conc] = statistics.stdev(crgrs)\n",
    "err_rgrs = dict(sorted(err_rgrs.items()))\n",
    "rgrs = dict(sorted(rgrs.items()))\n",
    "\n",
    "x = list(rgrs.keys())\n",
    "y = list(rgrs.values())\n",
    "errs = list(err_rgrs.values())\n",
    "\n",
    "\n",
    "xdata = x\n",
    "ydata = y\n",
    "\n",
    "def residual(params, x, y):\n",
    "    def f(x):\n",
    "        return ([params[\"N0\"]*(math.e**(params['l']*x0)) for x0 in x])\n",
    "    yval = f(x)\n",
    "    errs = [abs((a-b)) for a, b in zip(y, yval)]\n",
    "    return errs\n",
    "\n",
    "#depending on the data, need to go thru and refine the starting conditions\n",
    "\n",
    "\n",
    "p = Parameters()\n",
    "p.add('l', value = -.5)\n",
    "p.add('N0', value = 50)\n",
    "\n",
    "result = minimize(residual,p,args=(xdata,ydata))\n",
    "result.params.pretty_print()\n",
    "\n",
    "xvals = np.linspace(0,max(xdata),420)\n",
    "plt.plot(xvals, [result.params[\"N0\"]*(math.e**(result.params['l']*x0)) for x0 in xvals], label = \"Exponential Decay Fit\")\n",
    "plt.errorbar(x, y, yerr = errs, color = \"black\", label = \"Average RGR\", fmt = \"o\")\n",
    "plt.xlabel(\"Days in Fridge Pre Experiment\")\n",
    "plt.ylabel(\"Relative Growth Rate\")\n",
    "plt.legend()\n",
    "plt.savefig(\"fridge_exponential_decay.jpg\")"
   ]
  },
  {
   "cell_type": "code",
   "execution_count": 80,
   "id": "b5298b12",
   "metadata": {},
   "outputs": [
    {
     "data": {
      "text/plain": [
       "[8.095685043847315,\n",
       " 0.8605145512986057,\n",
       " 3.2804499934413482,\n",
       " 0.18628458060807568,\n",
       " 0.049897022396676066]"
      ]
     },
     "execution_count": 80,
     "metadata": {},
     "output_type": "execute_result"
    }
   ],
   "source": [
    "errs"
   ]
  },
  {
   "cell_type": "code",
   "execution_count": 54,
   "id": "e907a51f",
   "metadata": {},
   "outputs": [
    {
     "data": {
      "text/plain": [
       "6"
      ]
     },
     "execution_count": 54,
     "metadata": {},
     "output_type": "execute_result"
    }
   ],
   "source": [
    "x[1]"
   ]
  },
  {
   "cell_type": "code",
   "execution_count": 43,
   "id": "3e212604",
   "metadata": {},
   "outputs": [
    {
     "data": {
      "text/plain": [
       "{0: 32.82116535912383,\n",
       " 6: 12.971881081601785,\n",
       " 28: 4.508013409475136,\n",
       " 232: 0.8230454231581037,\n",
       " 310: 0.6508206318081086}"
      ]
     },
     "execution_count": 43,
     "metadata": {},
     "output_type": "execute_result"
    }
   ],
   "source": [
    "x = sorted(rgrs.items())\n",
    "y = dict(x)\n",
    "y"
   ]
  },
  {
   "cell_type": "code",
   "execution_count": 70,
   "id": "47e73c6b",
   "metadata": {},
   "outputs": [],
   "source": [
    "from lmfit import minimize, Parameters\n",
    "import scipy.integrate as spi\n",
    "from scipy.optimize import leastsq\n",
    "import math"
   ]
  },
  {
   "cell_type": "code",
   "execution_count": 113,
   "id": "5c5fec9f",
   "metadata": {
    "scrolled": true
   },
   "outputs": [
    {
     "name": "stdout",
     "output_type": "stream",
     "text": [
      "Name     Value      Min      Max   Stderr     Vary     Expr Brute_Step\n",
      "N0     32.56     -inf      inf    2.388     True     None     None\n",
      "l    -0.1437     -inf      inf  0.03084     True     None     None\n"
     ]
    },
    {
     "data": {
      "text/plain": [
       "<function matplotlib.pyplot.show(*args, **kw)>"
      ]
     },
     "execution_count": 113,
     "metadata": {},
     "output_type": "execute_result"
    },
    {
     "data": {
      "image/png": "[encoded data removed]",
      "text/plain": [
       "<Figure size 432x288 with 1 Axes>"
      ]
     },
     "metadata": {
      "needs_background": "light"
     },
     "output_type": "display_data"
    }
   ],
   "source": [
    "#for each line, find a hill equation to fit to it? \n",
    "xdata = x\n",
    "ydata = y\n",
    "\n",
    "def residual(params, x, y):\n",
    "    def f(x):\n",
    "        return ([params[\"N0\"]*(math.e**(params['l']*x0)) for x0 in x])\n",
    "    yval = f(x)\n",
    "    errs = [abs((a-b)) for a, b in zip(y, yval)]\n",
    "    return errs\n",
    "\n",
    "#depending on the data, need to go thru and refine the starting conditions\n",
    "\n",
    "\n",
    "p = Parameters()\n",
    "p.add('l', value = -.5)\n",
    "p.add('N0', value = 50)\n",
    "\n",
    "result = minimize(residual,p,args=(xdata,ydata))\n",
    "result.params.pretty_print()\n",
    "\n",
    "xvals = np.linspace(0,max(xdata),420)\n",
    "plt.plot(xvals, [result.params[\"N0\"]*(math.e**(result.params['l']*x0)) for x0 in xvals])\n",
    "\n",
    "#plt.text(300, 40, \"L = %.2f\\nk = %.2f\\nx0 = %.2f\" % (result.params['L'], result.params['k'], result.params['x0']))\n",
    "plt.xlabel(\"Days in Fridge Pre Experiment\")\n",
    "plt.ylabel(\"Relative Growth Rate\")\n",
    "plt.scatter(xdata,ydata)\n",
    "plt.show\n",
    "#plt.savefig(\"dose_response_4c.jpg\")"
   ]
  },
  {
   "cell_type": "code",
   "execution_count": 66,
   "id": "9ab5976e",
   "metadata": {
    "scrolled": true
   },
   "outputs": [
    {
     "name": "stdout",
     "output_type": "stream",
     "text": [
      "Name     Value      Min      Max   Stderr     Vary     Expr Brute_Step\n",
      "L       5945     -inf      inf    966.1     True     None     None\n",
      "k      1.093     -inf      inf   0.5404     True     None     None\n",
      "x0      6.24     -inf      inf   0.4665     True     None     None\n"
     ]
    },
    {
     "data": {
      "text/plain": [
       "<function matplotlib.pyplot.show(*args, **kw)>"
      ]
     },
     "execution_count": 66,
     "metadata": {},
     "output_type": "execute_result"
    },
    {
     "data": {
      "image/png": "[encoded data removed]",
      "text/plain": [
       "<Figure size 432x288 with 1 Axes>"
      ]
     },
     "metadata": {
      "needs_background": "light"
     },
     "output_type": "display_data"
    }
   ],
   "source": [
    "#for each line, find a hill equation to fit to it? \n",
    "xdata = x\n",
    "ydata = y\n",
    "\n",
    "def residual(params, x, y):\n",
    "    def f(x):\n",
    "        return ([params[\"N0\"]*(math.e**(params['l']*x0)) for x0 in x])\n",
    "    yval = f(x)\n",
    "    errs = [abs((a-b)) for a, b in zip(y, yval)]\n",
    "    return errs\n",
    "\n",
    "#depending on the data, need to go thru and refine the starting conditions\n",
    "\n",
    "\n",
    "p = Parameters()\n",
    "p.add('l', value = -.5)\n",
    "p.add('N0', value = 50)\n",
    "\n",
    "result = minimize(residual,p,args=(xdata,ydata))\n",
    "result.params.pretty_print()\n",
    "\n",
    "xvals = np.linspace(0,max(xdata),420)\n",
    "plt.plot(xvals, [result.params[\"N0\"]*(math.e**(result.params['l']*x0)) for x0 in xvals])\n",
    "\n",
    "#plt.text(300, 40, \"L = %.2f\\nk = %.2f\\nx0 = %.2f\" % (result.params['L'], result.params['k'], result.params['x0']))\n",
    "plt.xlabel(\"Time in Fridge (days) Pre Experiment\")\n",
    "plt.ylabel(\"Relative Growth Rate\")\n",
    "plt.scatter(xdata,ydata)\n",
    "plt.show\n",
    "#plt.savefig(\"dose_response_4c.jpg\")"
   ]
  },
  {
   "cell_type": "code",
   "execution_count": 84,
   "id": "6acf675a",
   "metadata": {},
   "outputs": [
    {
     "name": "stdout",
     "output_type": "stream",
     "text": [
      "Name     Value      Min      Max   Stderr     Vary     Expr Brute_Step\n",
      "L   2.572e+04     -inf      inf 7.47e+12     True     None     None\n",
      "k      6.648     -inf      inf 6.969e+05     True     None     None\n",
      "x0     9.754     -inf      inf 4.339e+07     True     None     None\n"
     ]
    },
    {
     "data": {
      "text/plain": [
       "<function matplotlib.pyplot.show(*args, **kw)>"
      ]
     },
     "execution_count": 84,
     "metadata": {},
     "output_type": "execute_result"
    },
    {
     "data": {
      "image/png": "[encoded data removed]",
      "text/plain": [
       "<Figure size 432x288 with 1 Axes>"
      ]
     },
     "metadata": {
      "needs_background": "light"
     },
     "output_type": "display_data"
    }
   ],
   "source": [
    "#for each line, find a hill equation to fit to it? \n",
    "vals = in_fridge_vs_green[232]\n",
    "ydata = [sum(x)/len(x) for x in list(vals.values())]\n",
    "xdata = list(in_fridge_vs_green[fridge].keys())\n",
    "\n",
    "def residual(params, x, y):\n",
    "    def f(x):\n",
    "        return (params['L']/(1.0 + math.e**(-1*params['k']*(x-params['x0']))))\n",
    "    yval = f(x)\n",
    "    errs = [abs((a-b)) for a, b in zip(y, yval)]\n",
    "    return errs\n",
    "\n",
    "#depending on the data, need to go thru and refine the starting conditions\n",
    "\n",
    "\n",
    "p = Parameters()\n",
    "p.add('L', value = 4000 )\n",
    "p.add('k', value = 10)\n",
    "p.add('x0', value = 10)\n",
    "result = minimize(residual,p,args=(xdata,ydata))\n",
    "result.params.pretty_print()\n",
    "\n",
    "xvals = np.linspace(0,max(xdata),420)\n",
    "plt.plot(xvals,(result.params['L'] /(1.0 + math.e**(-1*result.params['k']*(xvals-result.params['x0'])))))\n",
    "\n",
    "plt.text(2, 150, \"L = %.2f\\nk = %.2f\\nx0 = %.2f\" % (result.params['L'], result.params['k'], result.params['x0']))\n",
    "plt.xlabel(\"Days Since Splitting\")\n",
    "plt.ylabel(\"Frond area (mm2)\")\n",
    "plt.scatter(xdata,ydata)\n",
    "plt.show\n",
    "#plt.savefig(\"dose_response_4c.jpg\")"
   ]
  },
  {
   "cell_type": "markdown",
   "id": "5a7e104c",
   "metadata": {},
   "source": []
  },
  {
   "cell_type": "code",
   "execution_count": 88,
   "id": "0e3e5237",
   "metadata": {},
   "outputs": [
    {
     "ename": "TypeError",
     "evalue": "can't pickle dict_values objects",
     "output_type": "error",
     "traceback": [
      "\u001b[1;31m---------------------------------------------------------------------------\u001b[0m",
      "\u001b[1;31mTypeError\u001b[0m                                 Traceback (most recent call last)",
      "\u001b[1;32m<ipython-input-88-8b7f0952eade>\u001b[0m in \u001b[0;36m<module>\u001b[1;34m\u001b[0m\n\u001b[1;32m----> 1\u001b[1;33m \u001b[0mdill\u001b[0m\u001b[1;33m.\u001b[0m\u001b[0mdump_session\u001b[0m\u001b[1;33m(\u001b[0m\u001b[1;34m\"fridge_exp_29mar.db\"\u001b[0m\u001b[1;33m)\u001b[0m\u001b[1;33m\u001b[0m\u001b[1;33m\u001b[0m\u001b[0m\n\u001b[0m",
      "\u001b[1;32mC:\\ProgramData\\Miniconda3\\lib\\site-packages\\dill\\_dill.py\u001b[0m in \u001b[0;36mdump_session\u001b[1;34m(filename, main, byref, **kwds)\u001b[0m\n\u001b[0;32m    357\u001b[0m         \u001b[0mpickler\u001b[0m\u001b[1;33m.\u001b[0m\u001b[0m_recurse\u001b[0m \u001b[1;33m=\u001b[0m \u001b[1;32mFalse\u001b[0m \u001b[1;31m# disable pickling recursion for globals\u001b[0m\u001b[1;33m\u001b[0m\u001b[1;33m\u001b[0m\u001b[0m\n\u001b[0;32m    358\u001b[0m         \u001b[0mpickler\u001b[0m\u001b[1;33m.\u001b[0m\u001b[0m_session\u001b[0m \u001b[1;33m=\u001b[0m \u001b[1;32mTrue\u001b[0m  \u001b[1;31m# is best indicator of when pickling a session\u001b[0m\u001b[1;33m\u001b[0m\u001b[1;33m\u001b[0m\u001b[0m\n\u001b[1;32m--> 359\u001b[1;33m         \u001b[0mpickler\u001b[0m\u001b[1;33m.\u001b[0m\u001b[0mdump\u001b[0m\u001b[1;33m(\u001b[0m\u001b[0mmain\u001b[0m\u001b[1;33m)\u001b[0m\u001b[1;33m\u001b[0m\u001b[1;33m\u001b[0m\u001b[0m\n\u001b[0m\u001b[0;32m    360\u001b[0m     \u001b[1;32mfinally\u001b[0m\u001b[1;33m:\u001b[0m\u001b[1;33m\u001b[0m\u001b[1;33m\u001b[0m\u001b[0m\n\u001b[0;32m    361\u001b[0m         \u001b[1;32mif\u001b[0m \u001b[0mf\u001b[0m \u001b[1;32mis\u001b[0m \u001b[1;32mnot\u001b[0m \u001b[0mfilename\u001b[0m\u001b[1;33m:\u001b[0m  \u001b[1;31m# If newly opened file\u001b[0m\u001b[1;33m\u001b[0m\u001b[1;33m\u001b[0m\u001b[0m\n",
      "\u001b[1;32mC:\\ProgramData\\Miniconda3\\lib\\site-packages\\dill\\_dill.py\u001b[0m in \u001b[0;36mdump\u001b[1;34m(self, obj)\u001b[0m\n\u001b[0;32m    452\u001b[0m             \u001b[1;32mraise\u001b[0m \u001b[0mPicklingError\u001b[0m\u001b[1;33m(\u001b[0m\u001b[0mmsg\u001b[0m\u001b[1;33m)\u001b[0m\u001b[1;33m\u001b[0m\u001b[1;33m\u001b[0m\u001b[0m\n\u001b[0;32m    453\u001b[0m         \u001b[1;32melse\u001b[0m\u001b[1;33m:\u001b[0m\u001b[1;33m\u001b[0m\u001b[1;33m\u001b[0m\u001b[0m\n\u001b[1;32m--> 454\u001b[1;33m             \u001b[0mStockPickler\u001b[0m\u001b[1;33m.\u001b[0m\u001b[0mdump\u001b[0m\u001b[1;33m(\u001b[0m\u001b[0mself\u001b[0m\u001b[1;33m,\u001b[0m \u001b[0mobj\u001b[0m\u001b[1;33m)\u001b[0m\u001b[1;33m\u001b[0m\u001b[1;33m\u001b[0m\u001b[0m\n\u001b[0m\u001b[0;32m    455\u001b[0m         \u001b[0mstack\u001b[0m\u001b[1;33m.\u001b[0m\u001b[0mclear\u001b[0m\u001b[1;33m(\u001b[0m\u001b[1;33m)\u001b[0m  \u001b[1;31m# clear record of 'recursion-sensitive' pickled objects\u001b[0m\u001b[1;33m\u001b[0m\u001b[1;33m\u001b[0m\u001b[0m\n\u001b[0;32m    456\u001b[0m         \u001b[1;32mreturn\u001b[0m\u001b[1;33m\u001b[0m\u001b[1;33m\u001b[0m\u001b[0m\n",
      "\u001b[1;32mC:\\ProgramData\\Miniconda3\\lib\\pickle.py\u001b[0m in \u001b[0;36mdump\u001b[1;34m(self, obj)\u001b[0m\n\u001b[0;32m    435\u001b[0m         \u001b[1;32mif\u001b[0m \u001b[0mself\u001b[0m\u001b[1;33m.\u001b[0m\u001b[0mproto\u001b[0m \u001b[1;33m>=\u001b[0m \u001b[1;36m4\u001b[0m\u001b[1;33m:\u001b[0m\u001b[1;33m\u001b[0m\u001b[1;33m\u001b[0m\u001b[0m\n\u001b[0;32m    436\u001b[0m             \u001b[0mself\u001b[0m\u001b[1;33m.\u001b[0m\u001b[0mframer\u001b[0m\u001b[1;33m.\u001b[0m\u001b[0mstart_framing\u001b[0m\u001b[1;33m(\u001b[0m\u001b[1;33m)\u001b[0m\u001b[1;33m\u001b[0m\u001b[1;33m\u001b[0m\u001b[0m\n\u001b[1;32m--> 437\u001b[1;33m         \u001b[0mself\u001b[0m\u001b[1;33m.\u001b[0m\u001b[0msave\u001b[0m\u001b[1;33m(\u001b[0m\u001b[0mobj\u001b[0m\u001b[1;33m)\u001b[0m\u001b[1;33m\u001b[0m\u001b[1;33m\u001b[0m\u001b[0m\n\u001b[0m\u001b[0;32m    438\u001b[0m         \u001b[0mself\u001b[0m\u001b[1;33m.\u001b[0m\u001b[0mwrite\u001b[0m\u001b[1;33m(\u001b[0m\u001b[0mSTOP\u001b[0m\u001b[1;33m)\u001b[0m\u001b[1;33m\u001b[0m\u001b[1;33m\u001b[0m\u001b[0m\n\u001b[0;32m    439\u001b[0m         \u001b[0mself\u001b[0m\u001b[1;33m.\u001b[0m\u001b[0mframer\u001b[0m\u001b[1;33m.\u001b[0m\u001b[0mend_framing\u001b[0m\u001b[1;33m(\u001b[0m\u001b[1;33m)\u001b[0m\u001b[1;33m\u001b[0m\u001b[1;33m\u001b[0m\u001b[0m\n",
      "\u001b[1;32mC:\\ProgramData\\Miniconda3\\lib\\pickle.py\u001b[0m in \u001b[0;36msave\u001b[1;34m(self, obj, save_persistent_id)\u001b[0m\n\u001b[0;32m    502\u001b[0m         \u001b[0mf\u001b[0m \u001b[1;33m=\u001b[0m \u001b[0mself\u001b[0m\u001b[1;33m.\u001b[0m\u001b[0mdispatch\u001b[0m\u001b[1;33m.\u001b[0m\u001b[0mget\u001b[0m\u001b[1;33m(\u001b[0m\u001b[0mt\u001b[0m\u001b[1;33m)\u001b[0m\u001b[1;33m\u001b[0m\u001b[1;33m\u001b[0m\u001b[0m\n\u001b[0;32m    503\u001b[0m         \u001b[1;32mif\u001b[0m \u001b[0mf\u001b[0m \u001b[1;32mis\u001b[0m \u001b[1;32mnot\u001b[0m \u001b[1;32mNone\u001b[0m\u001b[1;33m:\u001b[0m\u001b[1;33m\u001b[0m\u001b[1;33m\u001b[0m\u001b[0m\n\u001b[1;32m--> 504\u001b[1;33m             \u001b[0mf\u001b[0m\u001b[1;33m(\u001b[0m\u001b[0mself\u001b[0m\u001b[1;33m,\u001b[0m \u001b[0mobj\u001b[0m\u001b[1;33m)\u001b[0m \u001b[1;31m# Call unbound method with explicit self\u001b[0m\u001b[1;33m\u001b[0m\u001b[1;33m\u001b[0m\u001b[0m\n\u001b[0m\u001b[0;32m    505\u001b[0m             \u001b[1;32mreturn\u001b[0m\u001b[1;33m\u001b[0m\u001b[1;33m\u001b[0m\u001b[0m\n\u001b[0;32m    506\u001b[0m \u001b[1;33m\u001b[0m\u001b[0m\n",
      "\u001b[1;32mC:\\ProgramData\\Miniconda3\\lib\\site-packages\\dill\\_dill.py\u001b[0m in \u001b[0;36msave_module\u001b[1;34m(pickler, obj)\u001b[0m\n\u001b[0;32m   1325\u001b[0m                 + [\"__builtins__\", \"__loader__\"]]\n\u001b[0;32m   1326\u001b[0m             pickler.save_reduce(_import_module, (obj.__name__,), obj=obj,\n\u001b[1;32m-> 1327\u001b[1;33m                                 state=_main_dict)\n\u001b[0m\u001b[0;32m   1328\u001b[0m             \u001b[0mlog\u001b[0m\u001b[1;33m.\u001b[0m\u001b[0minfo\u001b[0m\u001b[1;33m(\u001b[0m\u001b[1;34m\"# M1\"\u001b[0m\u001b[1;33m)\u001b[0m\u001b[1;33m\u001b[0m\u001b[1;33m\u001b[0m\u001b[0m\n\u001b[0;32m   1329\u001b[0m         \u001b[1;32melse\u001b[0m\u001b[1;33m:\u001b[0m\u001b[1;33m\u001b[0m\u001b[1;33m\u001b[0m\u001b[0m\n",
      "\u001b[1;32mC:\\ProgramData\\Miniconda3\\lib\\pickle.py\u001b[0m in \u001b[0;36msave_reduce\u001b[1;34m(self, func, args, state, listitems, dictitems, obj)\u001b[0m\n\u001b[0;32m    660\u001b[0m \u001b[1;33m\u001b[0m\u001b[0m\n\u001b[0;32m    661\u001b[0m         \u001b[1;32mif\u001b[0m \u001b[0mstate\u001b[0m \u001b[1;32mis\u001b[0m \u001b[1;32mnot\u001b[0m \u001b[1;32mNone\u001b[0m\u001b[1;33m:\u001b[0m\u001b[1;33m\u001b[0m\u001b[1;33m\u001b[0m\u001b[0m\n\u001b[1;32m--> 662\u001b[1;33m             \u001b[0msave\u001b[0m\u001b[1;33m(\u001b[0m\u001b[0mstate\u001b[0m\u001b[1;33m)\u001b[0m\u001b[1;33m\u001b[0m\u001b[1;33m\u001b[0m\u001b[0m\n\u001b[0m\u001b[0;32m    663\u001b[0m             \u001b[0mwrite\u001b[0m\u001b[1;33m(\u001b[0m\u001b[0mBUILD\u001b[0m\u001b[1;33m)\u001b[0m\u001b[1;33m\u001b[0m\u001b[1;33m\u001b[0m\u001b[0m\n\u001b[0;32m    664\u001b[0m \u001b[1;33m\u001b[0m\u001b[0m\n",
      "\u001b[1;32mC:\\ProgramData\\Miniconda3\\lib\\pickle.py\u001b[0m in \u001b[0;36msave\u001b[1;34m(self, obj, save_persistent_id)\u001b[0m\n\u001b[0;32m    502\u001b[0m         \u001b[0mf\u001b[0m \u001b[1;33m=\u001b[0m \u001b[0mself\u001b[0m\u001b[1;33m.\u001b[0m\u001b[0mdispatch\u001b[0m\u001b[1;33m.\u001b[0m\u001b[0mget\u001b[0m\u001b[1;33m(\u001b[0m\u001b[0mt\u001b[0m\u001b[1;33m)\u001b[0m\u001b[1;33m\u001b[0m\u001b[1;33m\u001b[0m\u001b[0m\n\u001b[0;32m    503\u001b[0m         \u001b[1;32mif\u001b[0m \u001b[0mf\u001b[0m \u001b[1;32mis\u001b[0m \u001b[1;32mnot\u001b[0m \u001b[1;32mNone\u001b[0m\u001b[1;33m:\u001b[0m\u001b[1;33m\u001b[0m\u001b[1;33m\u001b[0m\u001b[0m\n\u001b[1;32m--> 504\u001b[1;33m             \u001b[0mf\u001b[0m\u001b[1;33m(\u001b[0m\u001b[0mself\u001b[0m\u001b[1;33m,\u001b[0m \u001b[0mobj\u001b[0m\u001b[1;33m)\u001b[0m \u001b[1;31m# Call unbound method with explicit self\u001b[0m\u001b[1;33m\u001b[0m\u001b[1;33m\u001b[0m\u001b[0m\n\u001b[0m\u001b[0;32m    505\u001b[0m             \u001b[1;32mreturn\u001b[0m\u001b[1;33m\u001b[0m\u001b[1;33m\u001b[0m\u001b[0m\n\u001b[0;32m    506\u001b[0m \u001b[1;33m\u001b[0m\u001b[0m\n",
      "\u001b[1;32mC:\\ProgramData\\Miniconda3\\lib\\site-packages\\dill\\_dill.py\u001b[0m in \u001b[0;36msave_module_dict\u001b[1;34m(pickler, obj)\u001b[0m\n\u001b[0;32m    939\u001b[0m             \u001b[1;31m# we only care about session the first pass thru\u001b[0m\u001b[1;33m\u001b[0m\u001b[1;33m\u001b[0m\u001b[1;33m\u001b[0m\u001b[0m\n\u001b[0;32m    940\u001b[0m             \u001b[0mpickler\u001b[0m\u001b[1;33m.\u001b[0m\u001b[0m_session\u001b[0m \u001b[1;33m=\u001b[0m \u001b[1;32mFalse\u001b[0m\u001b[1;33m\u001b[0m\u001b[1;33m\u001b[0m\u001b[0m\n\u001b[1;32m--> 941\u001b[1;33m         \u001b[0mStockPickler\u001b[0m\u001b[1;33m.\u001b[0m\u001b[0msave_dict\u001b[0m\u001b[1;33m(\u001b[0m\u001b[0mpickler\u001b[0m\u001b[1;33m,\u001b[0m \u001b[0mobj\u001b[0m\u001b[1;33m)\u001b[0m\u001b[1;33m\u001b[0m\u001b[1;33m\u001b[0m\u001b[0m\n\u001b[0m\u001b[0;32m    942\u001b[0m         \u001b[0mlog\u001b[0m\u001b[1;33m.\u001b[0m\u001b[0minfo\u001b[0m\u001b[1;33m(\u001b[0m\u001b[1;34m\"# D2\"\u001b[0m\u001b[1;33m)\u001b[0m\u001b[1;33m\u001b[0m\u001b[1;33m\u001b[0m\u001b[0m\n\u001b[0;32m    943\u001b[0m     \u001b[1;32mreturn\u001b[0m\u001b[1;33m\u001b[0m\u001b[1;33m\u001b[0m\u001b[0m\n",
      "\u001b[1;32mC:\\ProgramData\\Miniconda3\\lib\\pickle.py\u001b[0m in \u001b[0;36msave_dict\u001b[1;34m(self, obj)\u001b[0m\n\u001b[0;32m    857\u001b[0m \u001b[1;33m\u001b[0m\u001b[0m\n\u001b[0;32m    858\u001b[0m         \u001b[0mself\u001b[0m\u001b[1;33m.\u001b[0m\u001b[0mmemoize\u001b[0m\u001b[1;33m(\u001b[0m\u001b[0mobj\u001b[0m\u001b[1;33m)\u001b[0m\u001b[1;33m\u001b[0m\u001b[1;33m\u001b[0m\u001b[0m\n\u001b[1;32m--> 859\u001b[1;33m         \u001b[0mself\u001b[0m\u001b[1;33m.\u001b[0m\u001b[0m_batch_setitems\u001b[0m\u001b[1;33m(\u001b[0m\u001b[0mobj\u001b[0m\u001b[1;33m.\u001b[0m\u001b[0mitems\u001b[0m\u001b[1;33m(\u001b[0m\u001b[1;33m)\u001b[0m\u001b[1;33m)\u001b[0m\u001b[1;33m\u001b[0m\u001b[1;33m\u001b[0m\u001b[0m\n\u001b[0m\u001b[0;32m    860\u001b[0m \u001b[1;33m\u001b[0m\u001b[0m\n\u001b[0;32m    861\u001b[0m     \u001b[0mdispatch\u001b[0m\u001b[1;33m[\u001b[0m\u001b[0mdict\u001b[0m\u001b[1;33m]\u001b[0m \u001b[1;33m=\u001b[0m \u001b[0msave_dict\u001b[0m\u001b[1;33m\u001b[0m\u001b[1;33m\u001b[0m\u001b[0m\n",
      "\u001b[1;32mC:\\ProgramData\\Miniconda3\\lib\\pickle.py\u001b[0m in \u001b[0;36m_batch_setitems\u001b[1;34m(self, items)\u001b[0m\n\u001b[0;32m    883\u001b[0m                 \u001b[1;32mfor\u001b[0m \u001b[0mk\u001b[0m\u001b[1;33m,\u001b[0m \u001b[0mv\u001b[0m \u001b[1;32min\u001b[0m \u001b[0mtmp\u001b[0m\u001b[1;33m:\u001b[0m\u001b[1;33m\u001b[0m\u001b[1;33m\u001b[0m\u001b[0m\n\u001b[0;32m    884\u001b[0m                     \u001b[0msave\u001b[0m\u001b[1;33m(\u001b[0m\u001b[0mk\u001b[0m\u001b[1;33m)\u001b[0m\u001b[1;33m\u001b[0m\u001b[1;33m\u001b[0m\u001b[0m\n\u001b[1;32m--> 885\u001b[1;33m                     \u001b[0msave\u001b[0m\u001b[1;33m(\u001b[0m\u001b[0mv\u001b[0m\u001b[1;33m)\u001b[0m\u001b[1;33m\u001b[0m\u001b[1;33m\u001b[0m\u001b[0m\n\u001b[0m\u001b[0;32m    886\u001b[0m                 \u001b[0mwrite\u001b[0m\u001b[1;33m(\u001b[0m\u001b[0mSETITEMS\u001b[0m\u001b[1;33m)\u001b[0m\u001b[1;33m\u001b[0m\u001b[1;33m\u001b[0m\u001b[0m\n\u001b[0;32m    887\u001b[0m             \u001b[1;32melif\u001b[0m \u001b[0mn\u001b[0m\u001b[1;33m:\u001b[0m\u001b[1;33m\u001b[0m\u001b[1;33m\u001b[0m\u001b[0m\n",
      "\u001b[1;32mC:\\ProgramData\\Miniconda3\\lib\\pickle.py\u001b[0m in \u001b[0;36msave\u001b[1;34m(self, obj, save_persistent_id)\u001b[0m\n\u001b[0;32m    502\u001b[0m         \u001b[0mf\u001b[0m \u001b[1;33m=\u001b[0m \u001b[0mself\u001b[0m\u001b[1;33m.\u001b[0m\u001b[0mdispatch\u001b[0m\u001b[1;33m.\u001b[0m\u001b[0mget\u001b[0m\u001b[1;33m(\u001b[0m\u001b[0mt\u001b[0m\u001b[1;33m)\u001b[0m\u001b[1;33m\u001b[0m\u001b[1;33m\u001b[0m\u001b[0m\n\u001b[0;32m    503\u001b[0m         \u001b[1;32mif\u001b[0m \u001b[0mf\u001b[0m \u001b[1;32mis\u001b[0m \u001b[1;32mnot\u001b[0m \u001b[1;32mNone\u001b[0m\u001b[1;33m:\u001b[0m\u001b[1;33m\u001b[0m\u001b[1;33m\u001b[0m\u001b[0m\n\u001b[1;32m--> 504\u001b[1;33m             \u001b[0mf\u001b[0m\u001b[1;33m(\u001b[0m\u001b[0mself\u001b[0m\u001b[1;33m,\u001b[0m \u001b[0mobj\u001b[0m\u001b[1;33m)\u001b[0m \u001b[1;31m# Call unbound method with explicit self\u001b[0m\u001b[1;33m\u001b[0m\u001b[1;33m\u001b[0m\u001b[0m\n\u001b[0m\u001b[0;32m    505\u001b[0m             \u001b[1;32mreturn\u001b[0m\u001b[1;33m\u001b[0m\u001b[1;33m\u001b[0m\u001b[0m\n\u001b[0;32m    506\u001b[0m \u001b[1;33m\u001b[0m\u001b[0m\n",
      "\u001b[1;32mC:\\ProgramData\\Miniconda3\\lib\\site-packages\\dill\\_dill.py\u001b[0m in \u001b[0;36msave_module_dict\u001b[1;34m(pickler, obj)\u001b[0m\n\u001b[0;32m    939\u001b[0m             \u001b[1;31m# we only care about session the first pass thru\u001b[0m\u001b[1;33m\u001b[0m\u001b[1;33m\u001b[0m\u001b[1;33m\u001b[0m\u001b[0m\n\u001b[0;32m    940\u001b[0m             \u001b[0mpickler\u001b[0m\u001b[1;33m.\u001b[0m\u001b[0m_session\u001b[0m \u001b[1;33m=\u001b[0m \u001b[1;32mFalse\u001b[0m\u001b[1;33m\u001b[0m\u001b[1;33m\u001b[0m\u001b[0m\n\u001b[1;32m--> 941\u001b[1;33m         \u001b[0mStockPickler\u001b[0m\u001b[1;33m.\u001b[0m\u001b[0msave_dict\u001b[0m\u001b[1;33m(\u001b[0m\u001b[0mpickler\u001b[0m\u001b[1;33m,\u001b[0m \u001b[0mobj\u001b[0m\u001b[1;33m)\u001b[0m\u001b[1;33m\u001b[0m\u001b[1;33m\u001b[0m\u001b[0m\n\u001b[0m\u001b[0;32m    942\u001b[0m         \u001b[0mlog\u001b[0m\u001b[1;33m.\u001b[0m\u001b[0minfo\u001b[0m\u001b[1;33m(\u001b[0m\u001b[1;34m\"# D2\"\u001b[0m\u001b[1;33m)\u001b[0m\u001b[1;33m\u001b[0m\u001b[1;33m\u001b[0m\u001b[0m\n\u001b[0;32m    943\u001b[0m     \u001b[1;32mreturn\u001b[0m\u001b[1;33m\u001b[0m\u001b[1;33m\u001b[0m\u001b[0m\n",
      "\u001b[1;32mC:\\ProgramData\\Miniconda3\\lib\\pickle.py\u001b[0m in \u001b[0;36msave_dict\u001b[1;34m(self, obj)\u001b[0m\n\u001b[0;32m    857\u001b[0m \u001b[1;33m\u001b[0m\u001b[0m\n\u001b[0;32m    858\u001b[0m         \u001b[0mself\u001b[0m\u001b[1;33m.\u001b[0m\u001b[0mmemoize\u001b[0m\u001b[1;33m(\u001b[0m\u001b[0mobj\u001b[0m\u001b[1;33m)\u001b[0m\u001b[1;33m\u001b[0m\u001b[1;33m\u001b[0m\u001b[0m\n\u001b[1;32m--> 859\u001b[1;33m         \u001b[0mself\u001b[0m\u001b[1;33m.\u001b[0m\u001b[0m_batch_setitems\u001b[0m\u001b[1;33m(\u001b[0m\u001b[0mobj\u001b[0m\u001b[1;33m.\u001b[0m\u001b[0mitems\u001b[0m\u001b[1;33m(\u001b[0m\u001b[1;33m)\u001b[0m\u001b[1;33m)\u001b[0m\u001b[1;33m\u001b[0m\u001b[1;33m\u001b[0m\u001b[0m\n\u001b[0m\u001b[0;32m    860\u001b[0m \u001b[1;33m\u001b[0m\u001b[0m\n\u001b[0;32m    861\u001b[0m     \u001b[0mdispatch\u001b[0m\u001b[1;33m[\u001b[0m\u001b[0mdict\u001b[0m\u001b[1;33m]\u001b[0m \u001b[1;33m=\u001b[0m \u001b[0msave_dict\u001b[0m\u001b[1;33m\u001b[0m\u001b[1;33m\u001b[0m\u001b[0m\n",
      "\u001b[1;32mC:\\ProgramData\\Miniconda3\\lib\\pickle.py\u001b[0m in \u001b[0;36m_batch_setitems\u001b[1;34m(self, items)\u001b[0m\n\u001b[0;32m    883\u001b[0m                 \u001b[1;32mfor\u001b[0m \u001b[0mk\u001b[0m\u001b[1;33m,\u001b[0m \u001b[0mv\u001b[0m \u001b[1;32min\u001b[0m \u001b[0mtmp\u001b[0m\u001b[1;33m:\u001b[0m\u001b[1;33m\u001b[0m\u001b[1;33m\u001b[0m\u001b[0m\n\u001b[0;32m    884\u001b[0m                     \u001b[0msave\u001b[0m\u001b[1;33m(\u001b[0m\u001b[0mk\u001b[0m\u001b[1;33m)\u001b[0m\u001b[1;33m\u001b[0m\u001b[1;33m\u001b[0m\u001b[0m\n\u001b[1;32m--> 885\u001b[1;33m                     \u001b[0msave\u001b[0m\u001b[1;33m(\u001b[0m\u001b[0mv\u001b[0m\u001b[1;33m)\u001b[0m\u001b[1;33m\u001b[0m\u001b[1;33m\u001b[0m\u001b[0m\n\u001b[0m\u001b[0;32m    886\u001b[0m                 \u001b[0mwrite\u001b[0m\u001b[1;33m(\u001b[0m\u001b[0mSETITEMS\u001b[0m\u001b[1;33m)\u001b[0m\u001b[1;33m\u001b[0m\u001b[1;33m\u001b[0m\u001b[0m\n\u001b[0;32m    887\u001b[0m             \u001b[1;32melif\u001b[0m \u001b[0mn\u001b[0m\u001b[1;33m:\u001b[0m\u001b[1;33m\u001b[0m\u001b[1;33m\u001b[0m\u001b[0m\n",
      "\u001b[1;32mC:\\ProgramData\\Miniconda3\\lib\\pickle.py\u001b[0m in \u001b[0;36msave\u001b[1;34m(self, obj, save_persistent_id)\u001b[0m\n\u001b[0;32m    522\u001b[0m             \u001b[0mreduce\u001b[0m \u001b[1;33m=\u001b[0m \u001b[0mgetattr\u001b[0m\u001b[1;33m(\u001b[0m\u001b[0mobj\u001b[0m\u001b[1;33m,\u001b[0m \u001b[1;34m\"__reduce_ex__\"\u001b[0m\u001b[1;33m,\u001b[0m \u001b[1;32mNone\u001b[0m\u001b[1;33m)\u001b[0m\u001b[1;33m\u001b[0m\u001b[1;33m\u001b[0m\u001b[0m\n\u001b[0;32m    523\u001b[0m             \u001b[1;32mif\u001b[0m \u001b[0mreduce\u001b[0m \u001b[1;32mis\u001b[0m \u001b[1;32mnot\u001b[0m \u001b[1;32mNone\u001b[0m\u001b[1;33m:\u001b[0m\u001b[1;33m\u001b[0m\u001b[1;33m\u001b[0m\u001b[0m\n\u001b[1;32m--> 524\u001b[1;33m                 \u001b[0mrv\u001b[0m \u001b[1;33m=\u001b[0m \u001b[0mreduce\u001b[0m\u001b[1;33m(\u001b[0m\u001b[0mself\u001b[0m\u001b[1;33m.\u001b[0m\u001b[0mproto\u001b[0m\u001b[1;33m)\u001b[0m\u001b[1;33m\u001b[0m\u001b[1;33m\u001b[0m\u001b[0m\n\u001b[0m\u001b[0;32m    525\u001b[0m             \u001b[1;32melse\u001b[0m\u001b[1;33m:\u001b[0m\u001b[1;33m\u001b[0m\u001b[1;33m\u001b[0m\u001b[0m\n\u001b[0;32m    526\u001b[0m                 \u001b[0mreduce\u001b[0m \u001b[1;33m=\u001b[0m \u001b[0mgetattr\u001b[0m\u001b[1;33m(\u001b[0m\u001b[0mobj\u001b[0m\u001b[1;33m,\u001b[0m \u001b[1;34m\"__reduce__\"\u001b[0m\u001b[1;33m,\u001b[0m \u001b[1;32mNone\u001b[0m\u001b[1;33m)\u001b[0m\u001b[1;33m\u001b[0m\u001b[1;33m\u001b[0m\u001b[0m\n",
      "\u001b[1;31mTypeError\u001b[0m: can't pickle dict_values objects"
     ]
    }
   ],
   "source": []
  }
 ],
 "metadata": {
  "kernelspec": {
   "display_name": "default_kernel",
   "language": "python",
   "name": "myenv"
  },
  "language_info": {
   "codemirror_mode": {
    "name": "ipython",
    "version": 3
   },
   "file_extension": ".py",
   "mimetype": "text/x-python",
   "name": "python",
   "nbconvert_exporter": "python",
   "pygments_lexer": "ipython3",
   "version": "3.7.6"
  }
 },
 "nbformat": 4,
 "nbformat_minor": 5
}
